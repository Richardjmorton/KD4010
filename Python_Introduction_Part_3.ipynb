{
 "cells": [
  {
   "cell_type": "markdown",
   "metadata": {},
   "source": [
    "<center><font size=10>Week 3</font></center> \n",
    "\n",
    "This week we will be examining the basic functionality that enables you to build up more complex algorithms, which will help you to create routines that can begin to do set tasks; and help us to improve our work-flow. \n",
    "\n",
    "This involves working with control statements and developing your own functions.\n",
    "\n",
    "\n"
   ]
  },
  {
   "cell_type": "markdown",
   "metadata": {},
   "source": [
    "***\n",
    "\n",
    "# Conditional Statements\n",
    "\n",
    "In order to create programs that are able to perform useful tasks for us, we will need to invoke conditional statements and loops (in combination with relational and logical operators). I have already used a couple in previous sections.\n",
    "\n",
    "## The _if_ statement\n",
    "\n",
    "The _if_ statement is a basic conditional statement.\n",
    "\n",
    "The format is:<br>\n",
    "<br>\n",
    "\n",
    "```python\n",
    "if condition:\n",
    "    expression\n",
    "```\n",
    "Here is a basic example:"
   ]
  },
  {
   "cell_type": "code",
   "execution_count": 1,
   "metadata": {
    "ExecuteTime": {
     "end_time": "2019-09-16T11:54:49.343175Z",
     "start_time": "2019-09-16T11:54:49.338109Z"
    }
   },
   "outputs": [
    {
     "name": "stdout",
     "output_type": "stream",
     "text": [
      "Hi there\n"
     ]
    }
   ],
   "source": [
    "x=2\n",
    "if x==2:               # If x equals 2 then carray out expression\n",
    "    print('Hi there')  # This line has to be indented "
   ]
  },
  {
   "cell_type": "markdown",
   "metadata": {},
   "source": [
    "The _if_ statement basically evaluates the expression in the condition. If the expression is True, then the following indented lines of code are run. Here, if the expression is false, then nothing happens.\n",
    "\n",
    "\n",
    "## if else\n",
    "You may actually want one of two actions to be performed depending on whether the condition is true of false. We will then need to include the _else_ statement"
   ]
  },
  {
   "cell_type": "code",
   "execution_count": 5,
   "metadata": {},
   "outputs": [
    {
     "name": "stdout",
     "output_type": "stream",
     "text": [
      "1 0\n"
     ]
    }
   ],
   "source": [
    "bird1=0\n",
    "bird2=0\n",
    "\n",
    "spotted='pidgeon'\n",
    "\n",
    "if spotted=='pidgeon':\n",
    "    bird1 +=1  # This operation adds 1 onto the previous value of the array                      \n",
    "else:\n",
    "    bird2 +=1\n",
    "    \n",
    "print(bird1,bird2)"
   ]
  },
  {
   "cell_type": "markdown",
   "metadata": {},
   "source": [
    "Change the spotted variable to 'crow' and see what happens.\n",
    "\n",
    "The above code can be thought of as _if (logic satisfied) do task1 else do task2_ .\n",
    "\n",
    "## if else elif\n",
    "\n",
    "Sometimes there are more than 2 choices, and we can use the _elif_ statement"
   ]
  },
  {
   "cell_type": "code",
   "execution_count": 1,
   "metadata": {
    "ExecuteTime": {
     "end_time": "2020-10-14T12:29:59.193482Z",
     "start_time": "2020-10-14T12:29:59.189237Z"
    }
   },
   "outputs": [
    {
     "name": "stdout",
     "output_type": "stream",
     "text": [
      "I like cats too! We should be friends.\n"
     ]
    }
   ],
   "source": [
    "choice = 'cat'\n",
    "\n",
    "if choice == 'cat':\n",
    "    print(\"I like cats too! We should be friends.\")\n",
    "elif choice == 'dog':\n",
    "    print(\"Dogs are okay...\")\n",
    "elif choice == 'rat':\n",
    "    print(\"Who likes rats?!\")\n",
    "else:\n",
    "    print(\"That pet was not an option.\")"
   ]
  },
  {
   "cell_type": "markdown",
   "metadata": {},
   "source": [
    "Change the variable choice to either 'dog' or 'rat' to see what happens.\n",
    "\n",
    "\n",
    "# Loops\n",
    "\n",
    "## _for_ loop\n",
    "\n",
    "A _for_ loop will loop over a section of code for the number of times specified. The _for_ loops in Python might look slightly different from those in other languages, e.g., Matlab, IDL. The _for_ loops in Python are 'collection-based' and they iterate over a collection of objects (see [here for additional detials](https://realpython.com/python-for-loop/) ).\n",
    "\n",
    "A simple example is:"
   ]
  },
  {
   "cell_type": "code",
   "execution_count": 7,
   "metadata": {},
   "outputs": [
    {
     "name": "stdout",
     "output_type": "stream",
     "text": [
      "The number is  0\n",
      "The number is  1\n",
      "The number is  2\n",
      "The number is  3\n",
      "The number is  4\n"
     ]
    }
   ],
   "source": [
    "for x in range(5):  # object with elements [0,1,2,3,4]\n",
    "    print('The number is ', x)"
   ]
  },
  {
   "cell_type": "markdown",
   "metadata": {},
   "source": [
    "The range function here is similar to _arange_ in numpy - it generates a sequence of evenly spaced samples. The _for_ loop then iterates over the integers.\n",
    "\n",
    "Here is another example with strings in a list:"
   ]
  },
  {
   "cell_type": "code",
   "execution_count": 40,
   "metadata": {
    "ExecuteTime": {
     "end_time": "2019-09-11T14:49:06.799709Z",
     "start_time": "2019-09-11T14:49:06.795707Z"
    }
   },
   "outputs": [
    {
     "name": "stdout",
     "output_type": "stream",
     "text": [
      "apple\n",
      "banana\n",
      "carrot\n"
     ]
    }
   ],
   "source": [
    "a = ['apple', 'banana', 'carrot']\n",
    "\n",
    "for fruit in a:     # Note that you can name the iterator what you\n",
    "    print(fruit)    # like, changing fruit to, e.g. goat will not\n",
    "                    # effect the execution."
   ]
  },
  {
   "cell_type": "markdown",
   "metadata": {},
   "source": [
    "In both of these cases we have created an _iterator_, which provides a consistent way to iterate over sequences. Here is another example with a dictionary (similar to an example shown previously in week 1):"
   ]
  },
  {
   "cell_type": "code",
   "execution_count": 2,
   "metadata": {
    "ExecuteTime": {
     "end_time": "2019-09-17T10:20:55.321050Z",
     "start_time": "2019-09-17T10:20:55.315807Z"
    }
   },
   "outputs": [
    {
     "name": "stdout",
     "output_type": "stream",
     "text": [
      "c\n",
      "b\n",
      "a\n"
     ]
    }
   ],
   "source": [
    "some_dict = {'a': 1, 'b': 3, 'c': 5}\n",
    "\n",
    "for keys in some_dict:\n",
    "    print(keys)"
   ]
  },
  {
   "cell_type": "markdown",
   "metadata": {},
   "source": [
    "The code written above does not allow of to iterate over keys and values in the dictionary. You can try a for loop of the form:\n",
    "> \\>for keys,values in some_dict:\n",
    "\n",
    "however, it will not work! To iterate over both keys and values we need to use the method dict.items()"
   ]
  },
  {
   "cell_type": "code",
   "execution_count": 4,
   "metadata": {
    "ExecuteTime": {
     "end_time": "2019-09-17T10:32:41.955870Z",
     "start_time": "2019-09-17T10:32:41.950903Z"
    }
   },
   "outputs": [
    {
     "name": "stdout",
     "output_type": "stream",
     "text": [
      "c 5\n",
      "b 3\n",
      "a 1\n"
     ]
    }
   ],
   "source": [
    "for keys, values in some_dict.items():\n",
    "    print(keys, values)"
   ]
  },
  {
   "cell_type": "markdown",
   "metadata": {},
   "source": [
    "You can also control the flow of _for_ loops with _break_ and _continue_ statements.\n",
    "\n",
    "A break statement will cause a loop to terminate. In the following example we will create a loop break when a conditional statement is satisfied."
   ]
  },
  {
   "cell_type": "code",
   "execution_count": 9,
   "metadata": {},
   "outputs": [
    {
     "name": "stdout",
     "output_type": "stream",
     "text": [
      "The number is  0\n",
      "The number is  1\n",
      "The number is  2\n"
     ]
    }
   ],
   "source": [
    "for x in range(5):\n",
    "    if x == 3:        # If our iterator gets to 3 then break\n",
    "        break\n",
    "    print('The number is ', x)"
   ]
  },
  {
   "cell_type": "markdown",
   "metadata": {},
   "source": [
    "A continue statement terminates the current iteration but the loop continues."
   ]
  },
  {
   "cell_type": "code",
   "execution_count": 10,
   "metadata": {},
   "outputs": [
    {
     "name": "stdout",
     "output_type": "stream",
     "text": [
      "The number is  0\n",
      "The number is  1\n",
      "The number is  2\n",
      "The number is  4\n"
     ]
    }
   ],
   "source": [
    "for x in range(5):\n",
    "    if x == 3:\n",
    "        continue\n",
    "    print('The number is ', x)"
   ]
  },
  {
   "cell_type": "markdown",
   "metadata": {},
   "source": [
    "You may also want to keep track of the iteration number during the process. A neat way to do this is use the function enumerate."
   ]
  },
  {
   "cell_type": "code",
   "execution_count": 3,
   "metadata": {
    "ExecuteTime": {
     "end_time": "2019-09-17T10:20:59.854492Z",
     "start_time": "2019-09-17T10:20:59.850231Z"
    }
   },
   "outputs": [
    {
     "name": "stdout",
     "output_type": "stream",
     "text": [
      "0 c\n",
      "1 b\n",
      "2 a\n"
     ]
    }
   ],
   "source": [
    "for index, keys in enumerate(some_dict):\n",
    "    print(index, keys)"
   ]
  },
  {
   "cell_type": "markdown",
   "metadata": {},
   "source": [
    "## While loops\n",
    "\n",
    "Like the _for_ statement, the _while_ statement starts a loop. However, the looping does not stop after a set number of iterations. It only stops when a given conditional statement is False, i.e., loops while it is True. Essentially, the while loop can be thought of as a looping _if_ statement.  "
   ]
  },
  {
   "cell_type": "code",
   "execution_count": 41,
   "metadata": {
    "ExecuteTime": {
     "end_time": "2019-09-11T14:51:08.599221Z",
     "start_time": "2019-09-11T14:50:59.695116Z"
    }
   },
   "outputs": [
    {
     "name": "stdout",
     "output_type": "stream",
     "text": [
      "Can you guess what number I am thining of? 3\n",
      "No, keep going! 2\n",
      "No, keep going! 42\n",
      "Yes, well done!\n"
     ]
    }
   ],
   "source": [
    "prompt = \"Can you guess what number I am thinking of? \"\n",
    "\n",
    "number=input(prompt)            # The input function enables some user interaction \n",
    "                                # - number variable is string\n",
    "while number != \"42\":           # This says ' loop while number is not equal to 42'\n",
    "    number =  input('No, keep going! ')\n",
    "    \n",
    "print(\"Yes, well done!\")"
   ]
  },
  {
   "cell_type": "markdown",
   "metadata": {},
   "source": [
    "It is worth noting that a _while_ loop can potentially go on forever!! This will likely be due to poor construction of the loop. If you find yourself stuck in a while loop, then you can stop the execution with 'ctrl-c'."
   ]
  },
  {
   "cell_type": "markdown",
   "metadata": {},
   "source": [
    "***\n",
    "\n",
    "# Functions\n",
    "\n",
    "So far, we have been using various pre-existing functions in Python. However, we can, and will often want to, develop our own functions to perform specific tasks. There are two methods for defining functions. The second method is discussed in [Section 10 - Imports](#Imports).\n",
    "\n",
    "\n",
    "## In-line functions \n",
    "The first method is one that can be done 'in-line', in the interpretor. \n",
    "\n",
    "We have to use the _def_ keyword when defining the function. This is then followed by the name of the function and parenthesis, between which you give any parameters for the function."
   ]
  },
  {
   "cell_type": "code",
   "execution_count": 1,
   "metadata": {
    "ExecuteTime": {
     "end_time": "2019-08-02T08:17:46.102384Z",
     "start_time": "2019-08-02T08:17:46.097968Z"
    }
   },
   "outputs": [
    {
     "name": "stdout",
     "output_type": "stream",
     "text": [
      "Hello Richard\n"
     ]
    }
   ],
   "source": [
    "def welcome_me(name):       # function name - welcome_me, parameter - name\n",
    "    print('Hello '+ name)    # These two lines are the function definition\n",
    "    \n",
    "welcome_me('Richard')       # Here I am calling the function"
   ]
  },
  {
   "cell_type": "markdown",
   "metadata": {},
   "source": [
    "Information is passed into the function as an argument. Here, _name_ is the parameter and 'Richard' is the argument.\n"
   ]
  },
  {
   "cell_type": "markdown",
   "metadata": {},
   "source": [
    "The function can also return information, and that information be stored in variables."
   ]
  },
  {
   "cell_type": "code",
   "execution_count": 9,
   "metadata": {},
   "outputs": [
    {
     "name": "stdout",
     "output_type": "stream",
     "text": [
      "16\n"
     ]
    }
   ],
   "source": [
    "def square_number(x):\n",
    "    return x**2\n",
    "\n",
    "y=square_number(4)  # Here x in the function takes on the value 4\n",
    "print(y)\n"
   ]
  },
  {
   "cell_type": "markdown",
   "metadata": {},
   "source": [
    "In theory, you can have as many arguments as you want, but when inputting them you will have respect the order they are input.\n",
    "\n",
    "You can also assign arguments by their names, and here order doesn't matter. \n",
    "\n"
   ]
  },
  {
   "cell_type": "code",
   "execution_count": 3,
   "metadata": {
    "ExecuteTime": {
     "end_time": "2019-08-02T08:30:04.419280Z",
     "start_time": "2019-08-02T08:30:04.410639Z"
    }
   },
   "outputs": [
    {
     "name": "stdout",
     "output_type": "stream",
     "text": [
      "1\n",
      "-1\n",
      "1\n"
     ]
    }
   ],
   "source": [
    "def subtract_numbers(x, y):\n",
    "    return x-y\n",
    "\n",
    "\n",
    "# Here x in the function takes on the value 4 and y is 3\n",
    "z = subtract_numbers(4, 3)\n",
    "print(z)\n",
    "\n",
    "# Here x in the function takes on the value 3 and y is 4\n",
    "z = subtract_numbers(3, 4)\n",
    "print(z)\n",
    "\n",
    "z = subtract_numbers(y=3, x=4)  # assign argument by name\n",
    "print(z)"
   ]
  },
  {
   "cell_type": "markdown",
   "metadata": {},
   "source": [
    "### A small aside\n",
    "Note that depending upon whether the argument that is passed to the function is mutable or immutable, one of two things can happen.\n",
    "\n",
    "In programming, arguments passed to functions are either _passed-by-reference_ or _passed-by-value_. \n",
    "\n",
    "If the arguments are passed-by-reference, the function gets an explicit reference to the argument (rather than a copy) - hence if your function changes what the argument variable refers to, the change reflects beck in the calling function. This is the case for mutable data types.\n",
    "\n",
    "This is slightly technical, but is illustrated with a simple example.\n",
    "\n",
    "Remember, the _id()_ function gives us the unique id number for the Python object."
   ]
  },
  {
   "cell_type": "code",
   "execution_count": 30,
   "metadata": {},
   "outputs": [
    {
     "name": "stdout",
     "output_type": "stream",
     "text": [
      "Outside function  4377955720\n",
      "Inside function  4377955720\n",
      "['dog', 3, 4, [1, 2, 'cat']]\n"
     ]
    }
   ],
   "source": [
    "def change_list(lis):\n",
    "    lis.append([1, 2, 'cat'])\n",
    "    print('Inside function ', id(lis))\n",
    "    return\n",
    "\n",
    "\n",
    "lis = ['dog', 3, 4]\n",
    "print('Outside function ', id(lis))\n",
    "change_list(lis)\n",
    "print(lis)"
   ]
  },
  {
   "cell_type": "markdown",
   "metadata": {},
   "source": [
    "For immutable data types, e.g., integers, the arguments are passed-by-value. Hence, the function effectively creates a copy of the variable to use within function. There is no change to the variables outside the function.\n",
    "\n",
    "Again, a simple example highlights this."
   ]
  },
  {
   "cell_type": "code",
   "execution_count": 31,
   "metadata": {},
   "outputs": [
    {
     "name": "stdout",
     "output_type": "stream",
     "text": [
      "Outside function  4316223952\n",
      "Inside function  4316224464\n",
      "20\n",
      "4\n"
     ]
    }
   ],
   "source": [
    "def multiply_number_by_five(x):\n",
    "    x *= 5\n",
    "    print('Inside function ', id(x))\n",
    "    return x\n",
    "\n",
    "\n",
    "x = 4\n",
    "print('Outside function ', id(x))\n",
    "print(multiply_number_by_five(x))\n",
    "print(x)                            # x is unchanged"
   ]
  },
  {
   "cell_type": "markdown",
   "metadata": {},
   "source": [
    "Further reading on this can be found here [https://www.python-course.eu/python3_passing_arguments.php](https://www.python-course.eu/python3_passing_arguments.php)\n",
    "\n",
    "\n",
    "## Returning multiple values\n",
    "\n",
    "A function can also return multiple values, and there are a number of ways to access these multiple values.\n",
    "The next two examples use the same function but show two different ways to access the values.\n",
    "\n",
    "In this first example we provide a single variable to assign the function output to. The result is that the variable is a tuple."
   ]
  },
  {
   "cell_type": "code",
   "execution_count": 33,
   "metadata": {},
   "outputs": [
    {
     "name": "stdout",
     "output_type": "stream",
     "text": [
      "('Issac Newton', '4th January 1943', 'Woolsthorpe') <class 'tuple'>\n"
     ]
    }
   ],
   "source": [
    "def issac_details():\n",
    "    name = \"Issac Newton\"\n",
    "    dob = \"4th January 1943\"\n",
    "    pob = \"Woolsthorpe\"\n",
    "    return name, dob, pob\n",
    "\n",
    "\n",
    "details = issac_details()\n",
    "print(details, type(details))"
   ]
  },
  {
   "cell_type": "markdown",
   "metadata": {},
   "source": [
    "This time, we provide 3 variables to assign the function output to."
   ]
  },
  {
   "cell_type": "code",
   "execution_count": 36,
   "metadata": {},
   "outputs": [
    {
     "name": "stdout",
     "output_type": "stream",
     "text": [
      "Issac Newton\n",
      "4th January 1943\n",
      "Woolsthorpe\n",
      "<class 'str'>\n"
     ]
    }
   ],
   "source": [
    "name, dob, place = issac_details()\n",
    "print(name)\n",
    "print(dob)\n",
    "print(place)"
   ]
  },
  {
   "cell_type": "markdown",
   "metadata": {},
   "source": [
    "Note that the first method returns a tuple, hence we can't alter the contents of elements in it (tuples are immutable).\n",
    "\n",
    "## Global vs local variables\n",
    "\n",
    "Not all variables are accessible everywhere in a script.\n",
    "\n",
    "Variable names in the main body of script, i.e. defined outside of functions, are called _global_ variables (said to be in the global scope). \n",
    "\n",
    "Local variables are defined within the function (local scope). The local variables cease to exist once the function has finished.\n",
    "\n",
    "Depending on how the function is defined, the function can access these global variables.\n",
    "\n",
    "First the local scope is checked to see whether a variable exists, then the global scope.\n",
    "\n",
    "The following function will use global variables:"
   ]
  },
  {
   "cell_type": "code",
   "execution_count": 38,
   "metadata": {},
   "outputs": [
    {
     "name": "stdout",
     "output_type": "stream",
     "text": [
      "10\n"
     ]
    }
   ],
   "source": [
    "def print_x():\n",
    "    print(x)      # x is not defined in the function\n",
    "\n",
    "\n",
    "x = 10\n",
    "print_x()"
   ]
  },
  {
   "cell_type": "markdown",
   "metadata": {},
   "source": [
    "In the following function, we create a _local_ variable in the function (through the argument definition). Even though it has the same name as the global variables, Python assumes we want the local variables - hence gives us an error"
   ]
  },
  {
   "cell_type": "code",
   "execution_count": 39,
   "metadata": {},
   "outputs": [
    {
     "ename": "TypeError",
     "evalue": "print_x() missing 1 required positional argument: 'x'",
     "output_type": "error",
     "traceback": [
      "\u001b[0;31m---------------------------------------------------------------------------\u001b[0m",
      "\u001b[0;31mTypeError\u001b[0m                                 Traceback (most recent call last)",
      "\u001b[0;32m<ipython-input-39-d628756ed6ce>\u001b[0m in \u001b[0;36m<module>\u001b[0;34m()\u001b[0m\n\u001b[1;32m      3\u001b[0m \u001b[0;34m\u001b[0m\u001b[0m\n\u001b[1;32m      4\u001b[0m \u001b[0mx\u001b[0m\u001b[0;34m=\u001b[0m\u001b[0;36m10\u001b[0m\u001b[0;34m\u001b[0m\u001b[0m\n\u001b[0;32m----> 5\u001b[0;31m \u001b[0mprint_x\u001b[0m\u001b[0;34m(\u001b[0m\u001b[0;34m)\u001b[0m\u001b[0;34m\u001b[0m\u001b[0m\n\u001b[0m",
      "\u001b[0;31mTypeError\u001b[0m: print_x() missing 1 required positional argument: 'x'"
     ]
    }
   ],
   "source": [
    "def print_x(x):     # x is defined in the function header,\n",
    "    print(x)        # so a local variables exists.\n",
    "\n",
    "\n",
    "x = 10\n",
    "print_x()"
   ]
  },
  {
   "cell_type": "markdown",
   "metadata": {},
   "source": [
    "The following will also give an error, even though the local variable is defined after the print statement."
   ]
  },
  {
   "cell_type": "code",
   "execution_count": 40,
   "metadata": {},
   "outputs": [
    {
     "ename": "UnboundLocalError",
     "evalue": "local variable 'x' referenced before assignment",
     "output_type": "error",
     "traceback": [
      "\u001b[0;31m---------------------------------------------------------------------------\u001b[0m",
      "\u001b[0;31mUnboundLocalError\u001b[0m                         Traceback (most recent call last)",
      "\u001b[0;32m<ipython-input-40-f4a48215c6c0>\u001b[0m in \u001b[0;36m<module>\u001b[0;34m()\u001b[0m\n\u001b[1;32m      4\u001b[0m \u001b[0;34m\u001b[0m\u001b[0m\n\u001b[1;32m      5\u001b[0m \u001b[0mx\u001b[0m\u001b[0;34m=\u001b[0m\u001b[0;36m10\u001b[0m\u001b[0;34m\u001b[0m\u001b[0m\n\u001b[0;32m----> 6\u001b[0;31m \u001b[0mprint_x\u001b[0m\u001b[0;34m(\u001b[0m\u001b[0;34m)\u001b[0m\u001b[0;34m\u001b[0m\u001b[0m\n\u001b[0m",
      "\u001b[0;32m<ipython-input-40-f4a48215c6c0>\u001b[0m in \u001b[0;36mprint_x\u001b[0;34m()\u001b[0m\n\u001b[1;32m      1\u001b[0m \u001b[0;32mdef\u001b[0m \u001b[0mprint_x\u001b[0m\u001b[0;34m(\u001b[0m\u001b[0;34m)\u001b[0m\u001b[0;34m:\u001b[0m\u001b[0;34m\u001b[0m\u001b[0m\n\u001b[0;32m----> 2\u001b[0;31m     \u001b[0mprint\u001b[0m\u001b[0;34m(\u001b[0m\u001b[0mx\u001b[0m\u001b[0;34m)\u001b[0m\u001b[0;34m\u001b[0m\u001b[0m\n\u001b[0m\u001b[1;32m      3\u001b[0m     \u001b[0mx\u001b[0m\u001b[0;34m=\u001b[0m\u001b[0;36m20\u001b[0m\u001b[0;34m\u001b[0m\u001b[0m\n\u001b[1;32m      4\u001b[0m \u001b[0;34m\u001b[0m\u001b[0m\n\u001b[1;32m      5\u001b[0m \u001b[0mx\u001b[0m\u001b[0;34m=\u001b[0m\u001b[0;36m10\u001b[0m\u001b[0;34m\u001b[0m\u001b[0m\n",
      "\u001b[0;31mUnboundLocalError\u001b[0m: local variable 'x' referenced before assignment"
     ]
    }
   ],
   "source": [
    "def print_x():\n",
    "    print(x)\n",
    "    x = 20\n",
    "\n",
    "\n",
    "x = 10\n",
    "print_x()"
   ]
  },
  {
   "cell_type": "markdown",
   "metadata": {},
   "source": [
    "What happens if we now just define a _local_ variable in the function that doesn't correspond to a global variable.  "
   ]
  },
  {
   "cell_type": "code",
   "execution_count": 42,
   "metadata": {},
   "outputs": [
    {
     "ename": "NameError",
     "evalue": "name 'temp' is not defined",
     "output_type": "error",
     "traceback": [
      "\u001b[0;31m---------------------------------------------------------------------------\u001b[0m",
      "\u001b[0;31mNameError\u001b[0m                                 Traceback (most recent call last)",
      "\u001b[0;32m<ipython-input-42-16e4a868b0c3>\u001b[0m in \u001b[0;36m<module>\u001b[0;34m()\u001b[0m\n\u001b[1;32m      4\u001b[0m \u001b[0mx\u001b[0m\u001b[0;34m=\u001b[0m\u001b[0;36m10\u001b[0m\u001b[0;34m\u001b[0m\u001b[0m\n\u001b[1;32m      5\u001b[0m \u001b[0mf\u001b[0m\u001b[0;34m(\u001b[0m\u001b[0mx\u001b[0m\u001b[0;34m)\u001b[0m\u001b[0;34m\u001b[0m\u001b[0m\n\u001b[0;32m----> 6\u001b[0;31m \u001b[0mprint\u001b[0m\u001b[0;34m(\u001b[0m\u001b[0mtemp\u001b[0m\u001b[0;34m)\u001b[0m\u001b[0;34m\u001b[0m\u001b[0m\n\u001b[0m",
      "\u001b[0;31mNameError\u001b[0m: name 'temp' is not defined"
     ]
    }
   ],
   "source": [
    "def f(y):\n",
    "    temp = y\n",
    "\n",
    "\n",
    "x = 10\n",
    "f(x)\n",
    "print(temp)"
   ]
  },
  {
   "cell_type": "markdown",
   "metadata": {},
   "source": [
    "I tried to print the local variable _temp_ after running the function, however, we get an error saying it is not defined. This is because temp only exists inside the function and is effectively destroyed once the function ends. \n",
    "\n",
    "\n",
    "## Optional Parameters\n",
    "\n",
    "Functions can also have optional (or default) parameters - they don't have to be given if the function is called.\n",
    "\n",
    "Writing a function that requires too many arguments to passed can make its usage cumbersome. In many situations you will want the function to perform a specific task, but also allow it to be customisable when the need arises. Hence, one way to achieve this flexibility is to define default arguments. The default arguments are given by a keyword and the default value.\n",
    "\n",
    "In the following, I define an optional parameter defined by the keyword _value_ with the default value of 1. First, I don't give the function anything for _value_. I then provide the optional parameter in two ways."
   ]
  },
  {
   "cell_type": "code",
   "execution_count": 45,
   "metadata": {},
   "outputs": [
    {
     "name": "stdout",
     "output_type": "stream",
     "text": [
      "The price of an Ipad is £1000\n",
      "The price of an Ipad is £500\n",
      "The price of an Ipad is £400\n"
     ]
    }
   ],
   "source": [
    "def price_of(value='£1000'):\n",
    "    print('The price of an Ipad is '+value)\n",
    "\n",
    "\n",
    "price_of()\n",
    "price_of('£500')\n",
    "price_of(value='£400')"
   ]
  },
  {
   "cell_type": "markdown",
   "metadata": {},
   "source": [
    "You can also define the argument as None - which is a null value. Note, this is not the same as 0."
   ]
  },
  {
   "cell_type": "code",
   "execution_count": 9,
   "metadata": {
    "ExecuteTime": {
     "end_time": "2019-08-02T08:47:50.808561Z",
     "start_time": "2019-08-02T08:47:50.801635Z"
    }
   },
   "outputs": [
    {
     "name": "stdout",
     "output_type": "stream",
     "text": [
      "The price of an Ipad is £500\n",
      "The price of an Ipad is $200\n"
     ]
    }
   ],
   "source": [
    "def price_of(value=None):\n",
    "    if value is None:\n",
    "        value = '£500'\n",
    "\n",
    "    print('The price of an Ipad is '+value)\n",
    "\n",
    "\n",
    "price_of()\n",
    "price_of('$200')"
   ]
  },
  {
   "cell_type": "markdown",
   "metadata": {},
   "source": [
    "## Flexible arguments\n",
    "\n",
    "You may also want to write a function that takes in a number of arguments, but you don't know in advance how many will be given.\n",
    "\n",
    "To do this we add _*args_ to the function header. This then passes all arguments as a tuple to the function body."
   ]
  },
  {
   "cell_type": "code",
   "execution_count": 1,
   "metadata": {
    "ExecuteTime": {
     "end_time": "2019-09-24T12:45:24.041336Z",
     "start_time": "2019-09-24T12:45:24.033327Z"
    }
   },
   "outputs": [
    {
     "data": {
      "text/plain": [
       "'RichardJeffDavidBrian'"
      ]
     },
     "execution_count": 1,
     "metadata": {},
     "output_type": "execute_result"
    }
   ],
   "source": [
    "def names(*args):\n",
    "    name_string = ''         # initialize empty string\n",
    "    for name in args:      # Loop over variables in tuple\n",
    "        name_string += name\n",
    "\n",
    "    return name_string\n",
    "\n",
    "\n",
    "names('Richard', 'Jeff', 'David', 'Brian')"
   ]
  },
  {
   "cell_type": "markdown",
   "metadata": {},
   "source": [
    "You can also do something similar for keyword arguments. This time, however, you require a double star, _\\**kwargs_. The keywords and values are then turned into a dictionary in the function body."
   ]
  },
  {
   "cell_type": "code",
   "execution_count": 4,
   "metadata": {
    "ExecuteTime": {
     "end_time": "2019-09-24T12:57:29.254046Z",
     "start_time": "2019-09-24T12:57:29.247774Z"
    }
   },
   "outputs": [
    {
     "name": "stdout",
     "output_type": "stream",
     "text": [
      "Key: Reward, Value: £500\n",
      "Key: Lost, Value: cat\n"
     ]
    }
   ],
   "source": [
    "def some_func(**kwargs):\n",
    "\n",
    "    for keys, values in kwargs.items():\n",
    "        print(\"Key: \"+keys+', Value:', str(values))\n",
    "\n",
    "\n",
    "some_func(Lost='cat', Reward='£500')"
   ]
  },
  {
   "cell_type": "markdown",
   "metadata": {},
   "source": [
    "Note, it is not the names args and kwargs that make this work - it is the single and double asterixes. However, using the names args and kwargs is standard practice."
   ]
  },
  {
   "cell_type": "markdown",
   "metadata": {},
   "source": [
    "# Modules & Imports\n",
    "\n",
    "We have already discussed running a list of instructions in a Python file (i.e. a file ending in _.py_). \n",
    "\n",
    "However we can also create and use modules (or packages), which are formatted .py files.\n",
    "\n",
    "We have already come across modules, such as numpy, and modules are imported as:\n",
    "\n",
    "> import some_module\n",
    "\n",
    "There are many such modules, each containing special functions, methods or types and are designed to undertake a particular problem.\n",
    "\n",
    "We can create our own modules simply. Enter the following in a new python file and save it as test_module.py"
   ]
  },
  {
   "cell_type": "code",
   "execution_count": null,
   "metadata": {},
   "outputs": [],
   "source": [
    "# test_module.py\n",
    "const = 4.67\n",
    "\n",
    "\n",
    "def addFour(x):\n",
    "    return x+4\n",
    "\n",
    "\n",
    "def multip(a, b):\n",
    "    return a*b"
   ]
  },
  {
   "cell_type": "markdown",
   "metadata": {},
   "source": [
    "We can load the module in with import, i.e.\n",
    "> \\>import test_module\n",
    "\n",
    "and use the constant and functions in the module as such:\n",
    "\n",
    "> \\>res=test_module.addFour(7)\n",
    "\n",
    "> \\>print(test_module.const)\n",
    "\n",
    "We can also import the functions as\n",
    "\n",
    "> \\>from test_module import addFour, multip, const\n",
    "\n",
    "> \\>res=multip(5,const)\n",
    "\n",
    "Or we can do:\n",
    "> \\>import test_module as tm\n",
    "\n",
    "> \\>res=tm.addFour(tm.const)"
   ]
  },
  {
   "cell_type": "markdown",
   "metadata": {},
   "source": [
    "# Error handling & exceptions\n",
    "\n",
    "A final word in this notebook is on error messages.\n",
    "\n",
    "As we have seen, Python will throw error (or exception) messages if you do something incorrectly. The error messages are useful for understanding what has gone wrong, and will help you correct any problems with your code.\n",
    "\n",
    "Any time you see an error message you don't understand - trying [googling](https://www.google.com) it.\n",
    "\n",
    "They may appear cryptic, but will help you fix any issues with you code! The quicker you start to use and understand the error messages, the easier it will be diagnose and fix problems. \n",
    "\n",
    "Take the following:"
   ]
  },
  {
   "cell_type": "code",
   "execution_count": 5,
   "metadata": {
    "ExecuteTime": {
     "end_time": "2019-09-25T12:16:33.674029Z",
     "start_time": "2019-09-25T12:16:33.666055Z"
    }
   },
   "outputs": [
    {
     "data": {
      "text/plain": [
       "1.234"
      ]
     },
     "execution_count": 5,
     "metadata": {},
     "output_type": "execute_result"
    }
   ],
   "source": [
    "float('1.234') # turns string to a float"
   ]
  },
  {
   "cell_type": "code",
   "execution_count": 6,
   "metadata": {
    "ExecuteTime": {
     "end_time": "2019-09-25T12:16:43.760970Z",
     "start_time": "2019-09-25T12:16:43.738641Z"
    }
   },
   "outputs": [
    {
     "ename": "ValueError",
     "evalue": "could not convert string to float: 'word'",
     "output_type": "error",
     "traceback": [
      "\u001b[0;31m---------------------------------------------------------------------------\u001b[0m",
      "\u001b[0;31mValueError\u001b[0m                                Traceback (most recent call last)",
      "\u001b[0;32m<ipython-input-6-cb46d0ec6998>\u001b[0m in \u001b[0;36m<module>\u001b[0;34m()\u001b[0m\n\u001b[0;32m----> 1\u001b[0;31m \u001b[0mfloat\u001b[0m\u001b[0;34m(\u001b[0m\u001b[0;34m'word'\u001b[0m\u001b[0;34m)\u001b[0m\u001b[0;34m\u001b[0m\u001b[0m\n\u001b[0m",
      "\u001b[0;31mValueError\u001b[0m: could not convert string to float: 'word'"
     ]
    }
   ],
   "source": [
    "float('word')"
   ]
  },
  {
   "cell_type": "markdown",
   "metadata": {},
   "source": [
    "Here a ValueError has been raised because the float function cannot convert the string 'word' to a number.\n",
    "\n",
    "You can also add error and exception handling to your functions. The following is called a _try/except_ block."
   ]
  },
  {
   "cell_type": "code",
   "execution_count": 14,
   "metadata": {
    "ExecuteTime": {
     "end_time": "2019-09-25T12:23:55.955214Z",
     "start_time": "2019-09-25T12:23:55.946561Z"
    }
   },
   "outputs": [
    {
     "data": {
      "text/plain": [
       "'Check arguments are both integers or float'"
      ]
     },
     "execution_count": 14,
     "metadata": {},
     "output_type": "execute_result"
    }
   ],
   "source": [
    "def add(a,b):\n",
    "    \n",
    "    try:\n",
    "        return a+b\n",
    "    except:\n",
    "        return 'Check arguments are both integers or floats'\n",
    "\n",
    "add(1,'y')"
   ]
  },
  {
   "cell_type": "markdown",
   "metadata": {
    "ExecuteTime": {
     "end_time": "2019-09-25T12:23:11.772926Z",
     "start_time": "2019-09-25T12:23:11.762083Z"
    }
   },
   "source": [
    "The except part is only executed if the try part raises an exception."
   ]
  },
  {
   "cell_type": "code",
   "execution_count": null,
   "metadata": {},
   "outputs": [],
   "source": []
  }
 ],
 "metadata": {
  "anaconda-cloud": {},
  "kernelspec": {
   "display_name": "Python 3",
   "language": "python",
   "name": "python3"
  },
  "language_info": {
   "codemirror_mode": {
    "name": "ipython",
    "version": 3
   },
   "file_extension": ".py",
   "mimetype": "text/x-python",
   "name": "python",
   "nbconvert_exporter": "python",
   "pygments_lexer": "ipython3",
   "version": "3.7.4"
  },
  "toc": {
   "base_numbering": 1,
   "nav_menu": {},
   "number_sections": true,
   "sideBar": true,
   "skip_h1_title": false,
   "title_cell": "Table of Contents",
   "title_sidebar": "Contents",
   "toc_cell": false,
   "toc_position": {
    "height": "calc(100% - 180px)",
    "left": "10px",
    "top": "150px",
    "width": "206px"
   },
   "toc_section_display": true,
   "toc_window_display": true
  },
  "varInspector": {
   "cols": {
    "lenName": 16,
    "lenType": 16,
    "lenVar": 40
   },
   "kernels_config": {
    "python": {
     "delete_cmd_postfix": "",
     "delete_cmd_prefix": "del ",
     "library": "var_list.py",
     "varRefreshCmd": "print(var_dic_list())"
    },
    "r": {
     "delete_cmd_postfix": ") ",
     "delete_cmd_prefix": "rm(",
     "library": "var_list.r",
     "varRefreshCmd": "cat(var_dic_list()) "
    }
   },
   "types_to_exclude": [
    "module",
    "function",
    "builtin_function_or_method",
    "instance",
    "_Feature"
   ],
   "window_display": false
  }
 },
 "nbformat": 4,
 "nbformat_minor": 2
}
