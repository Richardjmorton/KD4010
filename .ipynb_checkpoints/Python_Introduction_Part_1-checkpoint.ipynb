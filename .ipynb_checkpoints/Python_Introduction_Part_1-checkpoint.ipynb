{
 "cells": [
  {
   "cell_type": "markdown",
   "metadata": {
    "nbpresent": {
     "id": "8acb25e4-670b-4536-9e2b-4038e282a07d"
    }
   },
   "source": [
    "# Introduction to Python\n",
    "\n",
    "\n",
    "<img src='https://upload.wikimedia.org/wikipedia/commons/thumb/c/c3/Python-logo-notext.svg/110px-Python-logo-notext.svg.png'>\n",
    "\n",
    "<br>\n",
    "\n",
    "This is an introduction to Python! \n",
    "\n",
    "\n",
    "Python is a programming language and is currently one of the most used languages in the world. It is used by many scientists across many disciplines, but it is also used by a host of big companies, e.g.,\n",
    "\n",
    "<table style=\"width:100%\"><tr>\n",
    "<td style=\"width:33%\">\n",
    "    <img src=\"https://upload.wikimedia.org/wikipedia/commons/2/2f/Google_2015_logo.svg\" alt=\"Snow\" style=\"width:90%\">\n",
    "  </td>\n",
    "    \n",
    "  <td style=\"width:33%\">\n",
    "    <img src=\"https://upload.wikimedia.org/wikipedia/commons/1/15/Logonfx.png\" alt=\"Forest\" style=\"width:70%\">\n",
    "  </td>\n",
    "  \n",
    "  <td style=\"width:33%\">\n",
    "    <img src=\"https://upload.wikimedia.org/wikipedia/commons/thumb/e/e7/Instagram_logo_2016.svg/132px-Instagram_logo_2016.svg.png\" alt=\"Mountains\" style=\"width:40%\">\n",
    "  </td>\n",
    "  </tr>\n",
    "  <tr>\n",
    "     <td style=\"width:33%\"></td>\n",
    "    \n",
    "   <td style=\"width:33%\">\n",
    "   <img src='https://upload.wikimedia.org/wikipedia/commons/thumb/2/26/Spotify_logo_with_text.svg/559px-Spotify_logo_with_text.svg.png'>\n",
    "        </td>\n",
    "    \n",
    "  <td style=\"width:33%\"> </td>\n",
    "    \n",
    "</tr></table>\n",
    "\n",
    "\n",
    "<br>\n",
    "\n",
    "Python is a high-level language which enables you to do some complex tasks, but is one of the easiest languages to learn.\n",
    "\n",
    "This is the first in a set of Jupyter notebooks that will provide you with an brief overview of Python. The range of things that are possible with Python is huge, so it is not possible to cover all of them in a few lectures (or even a year long module!!). Hopefully these notebooks provide you with enough information to start your journey into scientific data analysis.\n",
    "\n",
    "\n",
    "As a companion to these notes, I suggest the following books:\n",
    "\n",
    "[Python Data Science Handbook](https://www.amazon.co.uk/Python-Data-Science-Handbook-Essential-ebook/dp/B01N2JT3ST) - Jake VanderPlas (also available [online](https://jakevdp.github.io/PythonDataScienceHandbook/))\n",
    "\n",
    "[Python for Data Analysis](https://www.amazon.co.uk/Python-Data-Analysis-Wrangling-IPython-ebook/dp/B075X4LT6K/ref=pd_cp_351_1/258-0652017-7669268?_encoding=UTF8&pd_rd_i=B075X4LT6K&pd_rd_r=28e28162-c20d-44c9-9258-58418e174dcb&pd_rd_w=CUoAI&pd_rd_wg=dq0RK&pf_rd_p=01704ebe-a86a-4b47-8c36-0f9f5bbc2882&pf_rd_r=6M4AQ1MKNZHM125KCBFN&psc=1&refRID=6M4AQ1MKNZHM125KCBFN) - Wes McKinney\n",
    "\n",
    "\n",
    "During the notes I also provide links to many online resource that are useful learning Python. I recommend exploring these websites in more detail to help with your learning.\n",
    "\n",
    "If you find any useful resources that help you understand an aspect of Python better, you can help contribute to these notes. Please let me know what you've found and the future years students will benefit from your contribution.\n",
    "\n",
    "<br>\n",
    "<p style=\"font-size:24px\";><b>What software do you need?</b></p>\n",
    "\n",
    "When working at the university, all software, i.e., Anaconda, PyCharm, Jupyter, will be available on you desktops.\n",
    "\n",
    "When working at home, it is suggested that you download your own version of the software. Full instructions on how to do this, and what you need is given in a separate document called *'software_instructions'*. The document also contains links to introductory videos that guide you through the steps. The links also show you how to run the software.\n",
    "\n",
    "<br>\n",
    "\n",
    "\n",
    "<br>"
   ]
  },
  {
   "cell_type": "markdown",
   "metadata": {},
   "source": [
    "# Launching the Jupyter Environment\n",
    "\n",
    "<img src='https://upload.wikimedia.org/wikipedia/commons/3/38/Jupyter_logo.svg' style=\"width:200px;height:200px;\">\n",
    "\n",
    "<br>\n",
    "\n",
    "The lecture notes for this course are given in a Jupyter notebook. [Jupyter](https://jupyter.org) is a useful tool for helping you to build functioning programs and share code with colleagues.\n",
    "\n",
    "The lecture notes are also interactive  - you can change the code and see how it behaves. I suggest you make a copy of the notebooks if you want to play around with the code.\n",
    "\n",
    "The lecture notes can be downloaded from the Blackboard page for this module. They are all contained in zip folder called *Python_lecture_notes.zip*. Move these files to your U:drive (if on the University PCs) or to a folder of your choice.\n",
    "\n",
    "You can launch the Jupyter environment by searching for the Jupyter in the Taskbar.\n",
    "This will open up a window in you browser showing something similar to this:\n",
    "\n",
    "![screenshot](jupyter_screenshot.png)"
   ]
  },
  {
   "cell_type": "markdown",
   "metadata": {},
   "source": [
    "You now have to navigate to the folder where you placed the files and and click on *Python_introduction_Part_1.ipynb*.\n",
    "\n",
    "There are many useful resources online that will help you get to grips [with using Jupyter](https://jupyter.brynmawr.edu/services/public/dblank/Jupyter%20Notebook%20Users%20Manual.ipynb#4.3.5-Notebook-Internal-Links).\n",
    "\n",
    "***"
   ]
  },
  {
   "cell_type": "markdown",
   "metadata": {},
   "source": [
    "# Launching Pycharm and Python (at Uni)\n",
    "\n",
    "You can work with Python in many ways. We will use Pycharm - which is what is known as a _developer environment_ and contains many useful features.\n",
    "\n",
    "**At Uni** If you are working in the University PCs, you will have a Pycharm launch icon on your desktop. The first time you launch it, it will likely take a few minutes to load up (this is to do with how it is managed on the University servers). **Do not click the icon again!!!** This leads to some issues that require a rather involved fix - so be patient. After the first launch, there should be no problems. \n",
    "\n",
    "When you run PyCharm for the first time you be asked to create a project and name it. You should also change the location of the folder. Make sure the folder is somewhere on your U:drive. Otherwise it will be deleted when you log out of the PC.\n",
    "\n",
    "Call it something sensible, like *Python_Intro* .\n",
    "\n",
    "The Pycharm environment should open and you will presented with a Terminal console, Python console and an editor window, amongst other things.\n",
    "\n",
    "We'll first focus on the terminal. If we click on the terminal tab, it tells us we are working in the directory \n",
    "username/PycharmProjects/astromodule. The last part refers to the current project directory.\n",
    "\n",
    "\n",
    "## IPython\n",
    "We will want to work with a version of Python called the IPython shell - which basically makes the basic version of python 'pretty'.\n",
    "\n",
    "In the terminal window, enter the following in to the command line\n",
    "\n",
    "> \\>ipython\n",
    "\n",
    "We are now in a Python shell and we are able to execute python statements and commands.\n",
    "\n",
    "E.g. input a=6 into the command line, enter, then a followed by enter.\n",
    "It should look like the following\n",
    "\n",
    "> \\>In[1]:a=6\n",
    "\n",
    "> \\>In[2]:a\n",
    "\n",
    "> \\>Out[2]:6\n",
    "\n",
    "You can exit the IPython environment with: \n",
    "\n",
    "> \\>exit()\n",
    "\n",
    "\n",
    "## Python files\n",
    "In Project tab, right click on the project root (in my examples called *astro_mod*), select _new_ then _Python file_.\n",
    "\n",
    "This will then open a new tab and ask you to name it. Let's start off with the classic *hello_world* (you will notice the files automatically got the extension *.py*, to show it is a python file).\n",
    "\n",
    "In the file enter the following:\n",
    "\n",
    "> print('Hello World!')\n",
    "\n",
    "and save (*ctrl+s*).\n",
    "\n",
    "Now we return to the Python shell and you can run your newly created Python file with the %run command\n",
    "\n",
    "> \\> %run hello_world\n",
    "\n",
    "***"
   ]
  },
  {
   "cell_type": "markdown",
   "metadata": {
    "nbpresent": {
     "id": "2b8defc9-a26f-4358-806e-f979410cfe73"
    }
   },
   "source": [
    "# Data types\n",
    "\n",
    "In order to undertake any form of analysis you will need to work with some form of data! In its most basic variety, this will usually take the form of numbers or letters.\n",
    "\n",
    "In Python, we call fundamental bits of data _values_ and they can have different classes. For example, the number 4 belongs to the class _integer_ and 'Hello' belongs to the class _string_.\n",
    "\n",
    "We can find out the class of the values, we can use a *function* called type"
   ]
  },
  {
   "cell_type": "code",
   "execution_count": 1,
   "metadata": {
    "ExecuteTime": {
     "end_time": "2019-10-09T12:14:51.053685Z",
     "start_time": "2019-10-09T12:14:51.048600Z"
    },
    "nbpresent": {
     "id": "220d62fc-8243-4489-959a-a174a954e1e7"
    }
   },
   "outputs": [
    {
     "data": {
      "text/plain": [
       "str"
      ]
     },
     "execution_count": 1,
     "metadata": {},
     "output_type": "execute_result"
    }
   ],
   "source": [
    "type('Hello')"
   ]
  },
  {
   "cell_type": "markdown",
   "metadata": {
    "nbpresent": {
     "id": "52c385e7-df36-4cad-b5a0-9f779fcd0810"
    }
   },
   "source": [
    "Notice that the string has single quotation marks surrounding it. Double quotation marks can also be used \n",
    "```python\n",
    "\"hello\"\n",
    "```\n",
    "If required, you can also use three of each, e.g. \n",
    "```python \n",
    "\"\"\"Hello\"\"\"\n",
    "```\n",
    "A single number is an integer:"
   ]
  },
  {
   "cell_type": "code",
   "execution_count": 2,
   "metadata": {
    "ExecuteTime": {
     "end_time": "2019-10-09T12:14:51.113692Z",
     "start_time": "2019-10-09T12:14:51.110142Z"
    },
    "nbpresent": {
     "id": "3830bb05-8cbb-45d0-8ac5-238a415b8225"
    }
   },
   "outputs": [
    {
     "data": {
      "text/plain": [
       "int"
      ]
     },
     "execution_count": 2,
     "metadata": {},
     "output_type": "execute_result"
    }
   ],
   "source": [
    "type(4)"
   ]
  },
  {
   "cell_type": "markdown",
   "metadata": {
    "nbpresent": {
     "id": "5fb527d7-9a01-48f5-a267-e7cb0ac85ea0"
    }
   },
   "source": [
    "You can also have floats, which represent decimals:"
   ]
  },
  {
   "cell_type": "code",
   "execution_count": 3,
   "metadata": {
    "ExecuteTime": {
     "end_time": "2019-10-09T12:14:51.175315Z",
     "start_time": "2019-10-09T12:14:51.171479Z"
    },
    "nbpresent": {
     "id": "752aaa53-8dfc-4849-9057-c8359d9b7ef9"
    }
   },
   "outputs": [
    {
     "data": {
      "text/plain": [
       "float"
      ]
     },
     "execution_count": 3,
     "metadata": {},
     "output_type": "execute_result"
    }
   ],
   "source": [
    "type(5.67)"
   ]
  },
  {
   "cell_type": "markdown",
   "metadata": {
    "nbpresent": {
     "id": "d7a9aa28-3a10-4228-a1eb-1885ae626c76"
    }
   },
   "source": [
    "If inputing a large integer, you do not need commas, e.g., 97,000 should be input as 97000. You can see what happens if the comma is included!"
   ]
  },
  {
   "cell_type": "code",
   "execution_count": 4,
   "metadata": {
    "ExecuteTime": {
     "end_time": "2019-10-09T12:14:51.235936Z",
     "start_time": "2019-10-09T12:14:51.231105Z"
    },
    "nbpresent": {
     "id": "3195f8fb-350a-487d-bee1-8ee05f04ac9b"
    }
   },
   "outputs": [
    {
     "data": {
      "text/plain": [
       "42000"
      ]
     },
     "execution_count": 4,
     "metadata": {},
     "output_type": "execute_result"
    }
   ],
   "source": [
    "42000"
   ]
  },
  {
   "cell_type": "markdown",
   "metadata": {},
   "source": [
    "You can also have complex numbers:"
   ]
  },
  {
   "cell_type": "code",
   "execution_count": 5,
   "metadata": {
    "ExecuteTime": {
     "end_time": "2019-10-09T12:14:51.296696Z",
     "start_time": "2019-10-09T12:14:51.292930Z"
    }
   },
   "outputs": [
    {
     "data": {
      "text/plain": [
       "complex"
      ]
     },
     "execution_count": 5,
     "metadata": {},
     "output_type": "execute_result"
    }
   ],
   "source": [
    "type(1+2j)"
   ]
  },
  {
   "cell_type": "markdown",
   "metadata": {
    "nbpresent": {
     "id": "619b7989-862e-4818-b867-b4a0ca20eec5"
    }
   },
   "source": [
    "***\n",
    "\n",
    "# Variables\n",
    "A variable is a way to associate a name with a value and is performed using the = sign (this is referred to as an assignment token and not to be confused with equals, which is == ).\n",
    "\n",
    "In the following I assign the word 'cat' to variable _a_ and the float 4.5 to variable _b_ . I am also using the _print_ function, which prints variables (and other things) to screen."
   ]
  },
  {
   "cell_type": "code",
   "execution_count": 6,
   "metadata": {
    "ExecuteTime": {
     "end_time": "2019-10-09T12:14:51.357003Z",
     "start_time": "2019-10-09T12:14:51.351782Z"
    },
    "nbpresent": {
     "id": "16414078-60e1-4c20-b524-2e0e027bdded"
    }
   },
   "outputs": [
    {
     "name": "stdout",
     "output_type": "stream",
     "text": [
      "cat\n",
      "4.8\n"
     ]
    }
   ],
   "source": [
    "a = 'cat'\n",
    "print(a)\n",
    "\n",
    "b = 4.8\n",
    "print(b)"
   ]
  },
  {
   "cell_type": "markdown",
   "metadata": {
    "nbpresent": {
     "id": "dc403189-b37f-40fd-a248-08c49adeda67"
    }
   },
   "source": [
    "Variables, as the name suggests, can have there value changed."
   ]
  },
  {
   "cell_type": "code",
   "execution_count": 7,
   "metadata": {
    "ExecuteTime": {
     "end_time": "2019-10-09T12:14:51.416127Z",
     "start_time": "2019-10-09T12:14:51.411323Z"
    },
    "nbpresent": {
     "id": "3385a260-740c-4532-b5d3-c734907b7c02"
    }
   },
   "outputs": [
    {
     "name": "stdout",
     "output_type": "stream",
     "text": [
      "January\n",
      "February\n"
     ]
    }
   ],
   "source": [
    "month = 'January'\n",
    "print(month)\n",
    "\n",
    "month = \"February\"\n",
    "print(month)"
   ]
  },
  {
   "cell_type": "markdown",
   "metadata": {
    "nbpresent": {
     "id": "493b64ea-cb06-498a-983c-701ee4c3e842"
    }
   },
   "source": [
    "Variable names can be of any length and can contain both letters and numbers (although they have begin with a letter). They are also case-sensitive, i.e., _month_ is different from _Month_. The convention is to use lower-case letters only though. The underscore can also be used in variables names, e.g., month_1985.\n",
    "\n",
    "Improperly defined variables result in a syntax error. For example, if your variable starts with a number:"
   ]
  },
  {
   "cell_type": "code",
   "execution_count": 8,
   "metadata": {
    "ExecuteTime": {
     "end_time": "2019-10-09T12:14:51.476641Z",
     "start_time": "2019-10-09T12:14:51.471899Z"
    },
    "nbpresent": {
     "id": "6a6981cf-a016-4791-8a57-c44d7c27d759"
    }
   },
   "outputs": [
    {
     "ename": "SyntaxError",
     "evalue": "invalid syntax (<ipython-input-8-6613a1c621f7>, line 1)",
     "output_type": "error",
     "traceback": [
      "\u001b[0;36m  File \u001b[0;32m\"<ipython-input-8-6613a1c621f7>\"\u001b[0;36m, line \u001b[0;32m1\u001b[0m\n\u001b[0;31m    1month='December'\u001b[0m\n\u001b[0m         ^\u001b[0m\n\u001b[0;31mSyntaxError\u001b[0m\u001b[0;31m:\u001b[0m invalid syntax\n"
     ]
    }
   ],
   "source": [
    "1month = 'December'"
   ]
  },
  {
   "cell_type": "markdown",
   "metadata": {
    "nbpresent": {
     "id": "9c5c09ed-9d80-4b22-8739-1f6f3e7abdc8"
    }
   },
   "source": [
    "You may also get a syntax error if you choose a variable name that is a __[Python keyword](https://www.w3schools.com/python/python_ref_keywords.asp)__.\n",
    "\n",
    "Finally, when you define variables in a code, the name should be useful for a human to read! If you just give it a random name or, e.g. \n",
    "\n",
    "```python\n",
    "var1 = ... \n",
    "var2 = ...\n",
    "var3 = ...\n",
    "```\n",
    "your code will be very difficult to follow.\n",
    "\n",
    "__Be kind to your future self - make your code easy to read!__\n",
    "\n",
    ">_“Indeed, the ratio of time spent reading versus writing is well over 10 to 1. We are constantly reading old code as part of the effort to write new code. ...[Therefore,] making it easy to read makes it easier to write.”_\n",
    "\n",
    "\n",
    ">― Robert C. Martin, Clean Code: A Handbook of Agile Software Craftsmanship\n",
    "\n",
    "\n",
    "***"
   ]
  },
  {
   "cell_type": "markdown",
   "metadata": {
    "nbpresent": {
     "id": "dcb9bcff-d2af-4b85-8181-12737ea1f2b6"
    }
   },
   "source": [
    "# Expressions\n",
    "\n",
    "An expression is a combination of variables, values, operations or functions.\n",
    "\n",
    "We will begin by looking at expressions containing mathematical operators.\n",
    "\n",
    "## Mathematical Operators\n",
    "Addition"
   ]
  },
  {
   "cell_type": "code",
   "execution_count": 9,
   "metadata": {
    "ExecuteTime": {
     "end_time": "2019-10-09T12:15:09.625766Z",
     "start_time": "2019-10-09T12:15:09.621310Z"
    },
    "nbpresent": {
     "id": "bd347446-93c1-499f-90f5-177135375592"
    }
   },
   "outputs": [
    {
     "data": {
      "text/plain": [
       "5"
      ]
     },
     "execution_count": 9,
     "metadata": {},
     "output_type": "execute_result"
    }
   ],
   "source": [
    "2+3"
   ]
  },
  {
   "cell_type": "markdown",
   "metadata": {
    "nbpresent": {
     "id": "b29c74ea-41f4-4e21-a56b-5d093fe964ac"
    }
   },
   "source": [
    "Subtraction"
   ]
  },
  {
   "cell_type": "code",
   "execution_count": 10,
   "metadata": {
    "ExecuteTime": {
     "end_time": "2019-10-09T12:15:10.526669Z",
     "start_time": "2019-10-09T12:15:10.521977Z"
    },
    "nbpresent": {
     "id": "0395c0b5-a2ce-4e76-ae63-566b95f35326"
    }
   },
   "outputs": [
    {
     "data": {
      "text/plain": [
       "-1"
      ]
     },
     "execution_count": 10,
     "metadata": {},
     "output_type": "execute_result"
    }
   ],
   "source": [
    "9-10"
   ]
  },
  {
   "cell_type": "markdown",
   "metadata": {
    "nbpresent": {
     "id": "3c243673-4e7a-4b67-ae20-2bc1530b276f"
    }
   },
   "source": [
    "Multiplication"
   ]
  },
  {
   "cell_type": "code",
   "execution_count": 11,
   "metadata": {
    "ExecuteTime": {
     "end_time": "2019-10-09T12:15:11.759965Z",
     "start_time": "2019-10-09T12:15:11.755594Z"
    },
    "nbpresent": {
     "id": "56fae6c7-e5c3-4141-be59-c03677821426"
    }
   },
   "outputs": [
    {
     "data": {
      "text/plain": [
       "6"
      ]
     },
     "execution_count": 11,
     "metadata": {},
     "output_type": "execute_result"
    }
   ],
   "source": [
    "2*3"
   ]
  },
  {
   "cell_type": "markdown",
   "metadata": {
    "nbpresent": {
     "id": "5b203538-cde5-4ae2-88f0-57a792293b79"
    }
   },
   "source": [
    "Division"
   ]
  },
  {
   "cell_type": "code",
   "execution_count": 12,
   "metadata": {
    "ExecuteTime": {
     "end_time": "2019-10-09T12:15:12.881247Z",
     "start_time": "2019-10-09T12:15:12.878050Z"
    },
    "nbpresent": {
     "id": "d5dff6fd-54bd-46f7-a4d4-d3fdca4c8a5b"
    }
   },
   "outputs": [
    {
     "data": {
      "text/plain": [
       "5.0"
      ]
     },
     "execution_count": 12,
     "metadata": {},
     "output_type": "execute_result"
    }
   ],
   "source": [
    "10/2"
   ]
  },
  {
   "cell_type": "markdown",
   "metadata": {
    "nbpresent": {
     "id": "67e5acd0-92b8-494b-b6b3-68700b51debb"
    }
   },
   "source": [
    "Raising exponents"
   ]
  },
  {
   "cell_type": "code",
   "execution_count": 13,
   "metadata": {
    "ExecuteTime": {
     "end_time": "2019-10-09T12:15:13.834177Z",
     "start_time": "2019-10-09T12:15:13.830809Z"
    },
    "nbpresent": {
     "id": "4f0efbc3-4ae0-49c2-a588-c393ccad5896"
    }
   },
   "outputs": [
    {
     "data": {
      "text/plain": [
       "27"
      ]
     },
     "execution_count": 13,
     "metadata": {},
     "output_type": "execute_result"
    }
   ],
   "source": [
    "3**3"
   ]
  },
  {
   "cell_type": "markdown",
   "metadata": {},
   "source": [
    "Finding the remainder after division using the modulo operator"
   ]
  },
  {
   "cell_type": "code",
   "execution_count": 14,
   "metadata": {
    "ExecuteTime": {
     "end_time": "2019-10-09T12:15:14.686684Z",
     "start_time": "2019-10-09T12:15:14.682479Z"
    }
   },
   "outputs": [
    {
     "data": {
      "text/plain": [
       "2"
      ]
     },
     "execution_count": 14,
     "metadata": {},
     "output_type": "execute_result"
    }
   ],
   "source": [
    "18%4"
   ]
  },
  {
   "cell_type": "markdown",
   "metadata": {
    "nbpresent": {
     "id": "6b6ff758-e1e2-4ff6-ada9-6042cd4b1d6d"
    }
   },
   "source": [
    "We can perform the same operations with variables that are numerical"
   ]
  },
  {
   "cell_type": "code",
   "execution_count": 15,
   "metadata": {
    "ExecuteTime": {
     "end_time": "2019-10-09T12:15:15.060131Z",
     "start_time": "2019-10-09T12:15:15.055626Z"
    },
    "nbpresent": {
     "id": "c55a2da5-768e-4c8c-8f1b-803fb3e2a7a2"
    }
   },
   "outputs": [
    {
     "name": "stdout",
     "output_type": "stream",
     "text": [
      "90\n"
     ]
    }
   ],
   "source": [
    "a = 9\n",
    "b = 10\n",
    "c = a*b\n",
    "print(c)"
   ]
  },
  {
   "cell_type": "markdown",
   "metadata": {
    "nbpresent": {
     "id": "54904cd1-32cc-4e63-aba1-ea222e19a6b0"
    }
   },
   "source": [
    "There is also something called *floor division*, // , which performs integer division:"
   ]
  },
  {
   "cell_type": "code",
   "execution_count": 16,
   "metadata": {
    "ExecuteTime": {
     "end_time": "2019-10-09T12:15:15.430550Z",
     "start_time": "2019-10-09T12:15:15.426860Z"
    },
    "nbpresent": {
     "id": "5fded82d-c178-4990-8fec-eb022ffd01ce"
    }
   },
   "outputs": [
    {
     "name": "stdout",
     "output_type": "stream",
     "text": [
      "3.5\n",
      "3\n"
     ]
    }
   ],
   "source": [
    "print(7/2)\n",
    "\n",
    "print(7//2)"
   ]
  },
  {
   "cell_type": "markdown",
   "metadata": {},
   "source": [
    "## Boolean values, logical and relational operators\n",
    "\n",
    "A Boolean value is either True or False. They are usually the outcome of testing statements with relational operators.\n",
    "\n",
    "Here are the most common relational operators, and their Boolean output"
   ]
  },
  {
   "cell_type": "code",
   "execution_count": 17,
   "metadata": {
    "ExecuteTime": {
     "end_time": "2019-10-09T12:15:15.816250Z",
     "start_time": "2019-10-09T12:15:15.810548Z"
    },
    "nbpresent": {
     "id": "8e8119d4-bc37-4b19-abbd-1e5e62d9cee4"
    }
   },
   "outputs": [
    {
     "name": "stdout",
     "output_type": "stream",
     "text": [
      "False\n",
      "True\n",
      "False\n",
      "True\n",
      "False\n",
      "True\n"
     ]
    }
   ],
   "source": [
    "print(5 == 3)  # This says is 5 equal to 3\n",
    "\n",
    "print(5 != 3)  # is 5 not equal to 3\n",
    "\n",
    "print(5 < 3)  # is 5 less than 3\n",
    "\n",
    "print(5 > 3)  # is 5 greater than 3\n",
    "\n",
    "print(5 <= 3)  # is 5 less than or equal to 3\n",
    "\n",
    "print(5 >= 3)  # is 5 greater than or equal to 3"
   ]
  },
  {
   "cell_type": "markdown",
   "metadata": {
    "nbpresent": {
     "id": "94256d6c-1fbd-4f72-acc4-900447434103"
    }
   },
   "source": [
    "The Boolean values are useful for sorting data and conditional execution of statements - all of which we will see later.\n",
    "\n",
    "We can combine the relational expression using logical operators, AND, OR and NOT"
   ]
  },
  {
   "cell_type": "code",
   "execution_count": 18,
   "metadata": {
    "ExecuteTime": {
     "end_time": "2019-10-09T12:15:16.197100Z",
     "start_time": "2019-10-09T12:15:16.191075Z"
    }
   },
   "outputs": [
    {
     "name": "stdout",
     "output_type": "stream",
     "text": [
      "True\n",
      "False\n",
      "True\n",
      "False\n"
     ]
    }
   ],
   "source": [
    "print(5 > 2 and 5 < 7)\n",
    "\n",
    "print(5 > 2 and 5 > 7)\n",
    "\n",
    "print(5 > 2 or 5 < 7)\n",
    "\n",
    "print(not(5 > 2 and 5 < 7))  # Reverses the boolean, i.e. if true gives false"
   ]
  },
  {
   "cell_type": "markdown",
   "metadata": {
    "nbpresent": {
     "id": "45263534-5a22-473a-8831-e91393779cbe"
    }
   },
   "source": [
    "## Operations with strings\n",
    "\n",
    "You can also manipulate strings in Python."
   ]
  },
  {
   "cell_type": "code",
   "execution_count": 19,
   "metadata": {
    "ExecuteTime": {
     "end_time": "2019-10-09T12:15:16.563885Z",
     "start_time": "2019-10-09T12:15:16.559458Z"
    },
    "nbpresent": {
     "id": "5c60c481-613f-466f-9c03-59dca86ebf5d"
    }
   },
   "outputs": [
    {
     "name": "stdout",
     "output_type": "stream",
     "text": [
      "Alphabet Soup\n",
      "AlphabetAlphabetAlphabet\n"
     ]
    }
   ],
   "source": [
    "word = 'Alphabet'\n",
    "word2 = 'Soup'\n",
    "\n",
    "print(word+' '+word2)\n",
    "\n",
    "print(word*3)"
   ]
  },
  {
   "cell_type": "markdown",
   "metadata": {
    "nbpresent": {
     "id": "cb081bf6-f8bc-4210-ac06-b5af3b3d2d09"
    }
   },
   "source": [
    "This includes accessing specific positions in the string (counting starts at 0):"
   ]
  },
  {
   "cell_type": "code",
   "execution_count": 20,
   "metadata": {
    "ExecuteTime": {
     "end_time": "2019-10-09T12:15:16.990471Z",
     "start_time": "2019-10-09T12:15:16.987518Z"
    },
    "nbpresent": {
     "id": "fb203da3-900c-4c41-b0fb-f9a423eb796e"
    }
   },
   "outputs": [
    {
     "name": "stdout",
     "output_type": "stream",
     "text": [
      "h\n"
     ]
    }
   ],
   "source": [
    "print(word[3])"
   ]
  },
  {
   "cell_type": "markdown",
   "metadata": {
    "nbpresent": {
     "id": "770f360a-1e65-4521-a285-a8198123209a"
    }
   },
   "source": [
    "There are many more things that can be achieved with string manipulation, however this will not be a focus of this course. But for now it's enough you know it exists!\n",
    "\n",
    "***"
   ]
  },
  {
   "cell_type": "markdown",
   "metadata": {
    "nbpresent": {
     "id": "912ca2da-176a-42a3-ad3e-4e8ac9920eba"
    }
   },
   "source": [
    "# Storing data\n",
    "\n",
    "You will often be working with many bits of data that come in various forms. Python contains a number of 'containers' that will hold data (these are known as compound data types).\n",
    "\n",
    "## Lists\n",
    "\n",
    "The most versatile, but maybe not the most appropriate for data analysis, is the _list_. The list is defined by comma separated entries enclosed in square brackets. It **can contain a mix of data types** - although it typically should only be used to contain one type."
   ]
  },
  {
   "cell_type": "code",
   "execution_count": 21,
   "metadata": {
    "ExecuteTime": {
     "end_time": "2019-10-09T12:15:17.635006Z",
     "start_time": "2019-10-09T12:15:17.631773Z"
    },
    "nbpresent": {
     "id": "1deffdc0-0a9d-4c53-88e4-79786a663c51"
    }
   },
   "outputs": [],
   "source": [
    "lis = [5, 'apple', 6.7, 'goat']"
   ]
  },
  {
   "cell_type": "markdown",
   "metadata": {
    "nbpresent": {
     "id": "32668c39-7914-455f-9d7d-e4df01fcc9ae"
    }
   },
   "source": [
    "Elements in the list are accessed by a numerical value, starting at zero. Negative indices count backwards."
   ]
  },
  {
   "cell_type": "code",
   "execution_count": 22,
   "metadata": {
    "ExecuteTime": {
     "end_time": "2019-10-09T12:15:18.012330Z",
     "start_time": "2019-10-09T12:15:18.006389Z"
    },
    "nbpresent": {
     "id": "6cc409f4-9749-44b7-9182-755ee126d90d"
    }
   },
   "outputs": [
    {
     "name": "stdout",
     "output_type": "stream",
     "text": [
      "5 goat\n",
      "<class 'int'> <class 'str'>\n",
      "goat\n"
     ]
    }
   ],
   "source": [
    "print(lis[0], lis[3])\n",
    "\n",
    "print(type(lis[0]), type(lis[3]))\n",
    "\n",
    "print(lis[-1])"
   ]
  },
  {
   "cell_type": "markdown",
   "metadata": {
    "nbpresent": {
     "id": "891dd279-0ed3-476d-86ac-fecf6dc82058"
    }
   },
   "source": [
    "Lists can be _sliced_ to create new lists. The colon is used to do the _'slicing'_:"
   ]
  },
  {
   "cell_type": "code",
   "execution_count": 23,
   "metadata": {
    "ExecuteTime": {
     "end_time": "2019-10-09T12:15:18.328408Z",
     "start_time": "2019-10-09T12:15:18.323629Z"
    },
    "nbpresent": {
     "id": "d4893e61-4e93-4f21-9abc-d7517fcfbd3f"
    }
   },
   "outputs": [
    {
     "name": "stdout",
     "output_type": "stream",
     "text": [
      "[0, 1, 2, 3]\n",
      "[7, 8, 9]\n"
     ]
    }
   ],
   "source": [
    "lis = [0, 1, 2, 3, 4, 5, 6, 7, 8, 9]\n",
    "\n",
    "print(lis[0:4])\n",
    "\n",
    "print(lis[-3:])"
   ]
  },
  {
   "cell_type": "markdown",
   "metadata": {},
   "source": [
    "You can also create lists of lists. Suppose we have the following information on peoples heights (in m). Jeff - 1.60, Paul - 1.80, Sally - 1.65 . We can store this as a list of lists, e.g. "
   ]
  },
  {
   "cell_type": "code",
   "execution_count": 24,
   "metadata": {
    "ExecuteTime": {
     "end_time": "2019-10-09T12:15:18.707520Z",
     "start_time": "2019-10-09T12:15:18.702771Z"
    }
   },
   "outputs": [
    {
     "name": "stdout",
     "output_type": "stream",
     "text": [
      "['Jeff', 1.6]\n",
      "1.8\n"
     ]
    }
   ],
   "source": [
    "heights = [['Jeff', 1.60],\n",
    "           ['Paul', 1.80],\n",
    "           ['Sally', 1.65]\n",
    "           ]\n",
    "\n",
    "print(heights[0])   # Give backs Jeff's details\n",
    "\n",
    "print(heights[1][1])  # Gives back Paul's height"
   ]
  },
  {
   "cell_type": "markdown",
   "metadata": {},
   "source": [
    "## Tuples\n",
    "\n",
    "There is a special type of list called a _tuple_ - which is immutable (see [the section on mutable vs immutable](#Mutable-vs-immutable)). Basically you cannot change any aspects of a tuple, e.g. size, content. They should be used if you want to avoid data in them being changed.\n",
    "\n",
    "They are defined with parenthesis rather than square brackets."
   ]
  },
  {
   "cell_type": "code",
   "execution_count": 25,
   "metadata": {
    "ExecuteTime": {
     "end_time": "2019-10-09T12:15:19.153729Z",
     "start_time": "2019-10-09T12:15:19.142011Z"
    }
   },
   "outputs": [
    {
     "name": "stdout",
     "output_type": "stream",
     "text": [
      "the\n"
     ]
    },
    {
     "ename": "TypeError",
     "evalue": "'tuple' object does not support item assignment",
     "output_type": "error",
     "traceback": [
      "\u001b[0;31m---------------------------------------------------------------------------\u001b[0m",
      "\u001b[0;31mTypeError\u001b[0m                                 Traceback (most recent call last)",
      "\u001b[0;32m<ipython-input-25-93385fea8580>\u001b[0m in \u001b[0;36m<module>\u001b[0;34m()\u001b[0m\n\u001b[1;32m      1\u001b[0m \u001b[0matup\u001b[0m\u001b[0;34m=\u001b[0m\u001b[0;34m(\u001b[0m\u001b[0;34m'the'\u001b[0m\u001b[0;34m,\u001b[0m\u001b[0;34m'number'\u001b[0m\u001b[0;34m,\u001b[0m\u001b[0;34m'is'\u001b[0m\u001b[0;34m,\u001b[0m\u001b[0;36m10\u001b[0m\u001b[0;34m)\u001b[0m\u001b[0;34m\u001b[0m\u001b[0m\n\u001b[1;32m      2\u001b[0m \u001b[0mprint\u001b[0m\u001b[0;34m(\u001b[0m\u001b[0matup\u001b[0m\u001b[0;34m[\u001b[0m\u001b[0;36m0\u001b[0m\u001b[0;34m]\u001b[0m\u001b[0;34m)\u001b[0m\u001b[0;34m\u001b[0m\u001b[0m\n\u001b[0;32m----> 3\u001b[0;31m \u001b[0matup\u001b[0m\u001b[0;34m[\u001b[0m\u001b[0;36m3\u001b[0m\u001b[0;34m]\u001b[0m\u001b[0;34m=\u001b[0m\u001b[0;36m13\u001b[0m              \u001b[0;31m# trying to change an element value results in error\u001b[0m\u001b[0;34m\u001b[0m\u001b[0m\n\u001b[0m",
      "\u001b[0;31mTypeError\u001b[0m: 'tuple' object does not support item assignment"
     ]
    }
   ],
   "source": [
    "atup = ('the', 'number', 'is', 10)\n",
    "\n",
    "print(atup[0])\n",
    "\n",
    "atup[3] = 13              # trying to change an element value results in error"
   ]
  },
  {
   "cell_type": "markdown",
   "metadata": {},
   "source": [
    "As with lists, tuples can store a mixture of data types:\n"
   ]
  },
  {
   "cell_type": "code",
   "execution_count": 26,
   "metadata": {
    "ExecuteTime": {
     "end_time": "2019-10-09T12:15:19.510542Z",
     "start_time": "2019-10-09T12:15:19.507714Z"
    }
   },
   "outputs": [],
   "source": [
    "mytup = tuple(([1, 2], 'text', False))"
   ]
  },
  {
   "cell_type": "markdown",
   "metadata": {},
   "source": [
    "You can 'unpack' a tuple, which is a useful operation when dealing with many functions in Python. To unpack a tuple you do the following:"
   ]
  },
  {
   "cell_type": "code",
   "execution_count": 27,
   "metadata": {
    "ExecuteTime": {
     "end_time": "2019-10-09T12:15:20.580480Z",
     "start_time": "2019-10-09T12:15:20.575825Z"
    }
   },
   "outputs": [
    {
     "name": "stdout",
     "output_type": "stream",
     "text": [
      "[1, 2]\n",
      "text\n"
     ]
    }
   ],
   "source": [
    "alist, sometext, abool = mytup\n",
    "\n",
    "print(alist)\n",
    "\n",
    "print(sometext)"
   ]
  },
  {
   "cell_type": "markdown",
   "metadata": {},
   "source": [
    "\n",
    "## Dictionaries\n",
    "\n",
    "A dictionary is a collection of data types that are unordered and indexed (actually, in Python versions greater than v3.5, dictionaries are now ordered!). They are defined with curly brackets and have **key** and **value** pairs."
   ]
  },
  {
   "cell_type": "code",
   "execution_count": 28,
   "metadata": {
    "ExecuteTime": {
     "end_time": "2019-10-09T12:15:21.328821Z",
     "start_time": "2019-10-09T12:15:21.325021Z"
    }
   },
   "outputs": [
    {
     "name": "stdout",
     "output_type": "stream",
     "text": [
      "{'value': 1.2, 'fruit': 'Apple', 'quantity': 100}\n"
     ]
    }
   ],
   "source": [
    "mydict = {\n",
    "    \"fruit\": \"Apple\",\n",
    "    \"value\": 1.20,\n",
    "    \"quantity\": 100,\n",
    "}\n",
    "\n",
    "print(mydict)"
   ]
  },
  {
   "cell_type": "markdown",
   "metadata": {},
   "source": [
    "Here the keys are \"value\", \"fruit\" and \"quantity\". The values are \"Apple\", 1.20, and 100.\n",
    "\n",
    "You use the keys to access the values."
   ]
  },
  {
   "cell_type": "code",
   "execution_count": 29,
   "metadata": {
    "ExecuteTime": {
     "end_time": "2019-10-09T12:15:21.811367Z",
     "start_time": "2019-10-09T12:15:21.808053Z"
    },
    "scrolled": true
   },
   "outputs": [
    {
     "name": "stdout",
     "output_type": "stream",
     "text": [
      "Apple\n"
     ]
    }
   ],
   "source": [
    "print(mydict['fruit'])"
   ]
  },
  {
   "cell_type": "markdown",
   "metadata": {},
   "source": [
    "If we want to find all the keys of values in the dictionary, we can use some in-built methods:"
   ]
  },
  {
   "cell_type": "code",
   "execution_count": 30,
   "metadata": {
    "ExecuteTime": {
     "end_time": "2019-10-09T12:15:22.358102Z",
     "start_time": "2019-10-09T12:15:22.354619Z"
    }
   },
   "outputs": [
    {
     "name": "stdout",
     "output_type": "stream",
     "text": [
      "dict_keys(['value', 'fruit', 'quantity'])\n",
      "dict_values([1.2, 'Apple', 100])\n"
     ]
    }
   ],
   "source": [
    "print(mydict.keys())\n",
    "\n",
    "print(mydict.values())"
   ]
  },
  {
   "cell_type": "markdown",
   "metadata": {},
   "source": [
    "We can explore the dictionary in a number of ways. One example is using a _for_ loops to iterate through the collection of keys."
   ]
  },
  {
   "cell_type": "code",
   "execution_count": 31,
   "metadata": {
    "ExecuteTime": {
     "end_time": "2019-10-09T12:15:23.265717Z",
     "start_time": "2019-10-09T12:15:23.262593Z"
    },
    "scrolled": true
   },
   "outputs": [
    {
     "name": "stdout",
     "output_type": "stream",
     "text": [
      "value\n",
      "fruit\n",
      "quantity\n"
     ]
    }
   ],
   "source": [
    "for key in mydict:\n",
    "    print(key)"
   ]
  },
  {
   "cell_type": "markdown",
   "metadata": {},
   "source": [
    "Here is another example looking at the values or type for each key:"
   ]
  },
  {
   "cell_type": "code",
   "execution_count": 32,
   "metadata": {
    "ExecuteTime": {
     "end_time": "2019-10-09T12:15:23.965184Z",
     "start_time": "2019-10-09T12:15:23.961157Z"
    }
   },
   "outputs": [
    {
     "name": "stdout",
     "output_type": "stream",
     "text": [
      "1.2 <class 'float'>\n",
      "Apple <class 'str'>\n",
      "100 <class 'int'>\n"
     ]
    }
   ],
   "source": [
    "for key in mydict:\n",
    "    print(mydict[key], type(mydict[key]))"
   ]
  },
  {
   "cell_type": "markdown",
   "metadata": {},
   "source": [
    "We can check if a key exists in the dictionary"
   ]
  },
  {
   "cell_type": "code",
   "execution_count": 33,
   "metadata": {
    "ExecuteTime": {
     "end_time": "2019-10-09T12:15:24.671523Z",
     "start_time": "2019-10-09T12:15:24.667193Z"
    },
    "scrolled": true
   },
   "outputs": [
    {
     "name": "stdout",
     "output_type": "stream",
     "text": [
      "It's here\n"
     ]
    }
   ],
   "source": [
    "if 'fruit' in mydict:\n",
    "    print(\"It's here\")  # Here I have used double quotation marks for the string\n",
    "                        # as the text contains a '"
   ]
  },
  {
   "cell_type": "markdown",
   "metadata": {},
   "source": [
    "To add a new key and value we can do the following"
   ]
  },
  {
   "cell_type": "code",
   "execution_count": 34,
   "metadata": {
    "ExecuteTime": {
     "end_time": "2019-10-09T12:15:25.632845Z",
     "start_time": "2019-10-09T12:15:25.629942Z"
    }
   },
   "outputs": [
    {
     "name": "stdout",
     "output_type": "stream",
     "text": [
      "{'value': 1.2, 'color': 'red', 'fruit': 'Apple', 'quantity': 100}\n"
     ]
    }
   ],
   "source": [
    "mydict['color'] = 'red'\n",
    "print(mydict)"
   ]
  },
  {
   "cell_type": "markdown",
   "metadata": {},
   "source": [
    "For more on dictionaries, see e.g. _[https://realpython.com/iterate-through-dictionary-python/](https://realpython.com/iterate-through-dictionary-python/)_"
   ]
  },
  {
   "cell_type": "markdown",
   "metadata": {},
   "source": [
    "\n",
    "\n",
    "## Arrays\n",
    "The most common way of working with numerical data is to use an array. Arrays are not native to Python but can be created and manipulated with add-on packages. These additional packages normally come with most versions of Python as they are seen as essential tool.\n",
    "\n",
    "The main packages for manipulation of numerical data is *numpy*.\n",
    "\n",
    "First, let us **import** the *numpy* package. \n",
    "\n",
    "Full details on the *numpy* package can be found at __[https://docs.scipy.org/doc/numpy/index.html](https://docs.scipy.org/doc/numpy/index.html)__"
   ]
  },
  {
   "cell_type": "code",
   "execution_count": 35,
   "metadata": {
    "ExecuteTime": {
     "end_time": "2019-10-09T12:15:26.492275Z",
     "start_time": "2019-10-09T12:15:26.489619Z"
    },
    "nbpresent": {
     "id": "69dff61a-d77c-49d5-808e-f070684c8713"
    }
   },
   "outputs": [],
   "source": [
    "import numpy as np # The second part of the this statement lets us refer to a \n",
    "                   # package with a shorthand notation, e.g, np"
   ]
  },
  {
   "cell_type": "markdown",
   "metadata": {
    "nbpresent": {
     "id": "f48f0a55-4611-4485-a127-2c872ba38c05"
    }
   },
   "source": [
    "### Array creation \n",
    "We can create an array in many ways (depending on what you want from the array). A simple 1D array is given by providing a list to the numpy _array_ function:"
   ]
  },
  {
   "cell_type": "code",
   "execution_count": 36,
   "metadata": {
    "ExecuteTime": {
     "end_time": "2019-10-09T12:15:27.300539Z",
     "start_time": "2019-10-09T12:15:27.295840Z"
    },
    "nbpresent": {
     "id": "f77fad4b-2523-46e9-b34d-569e711890ec"
    }
   },
   "outputs": [
    {
     "name": "stdout",
     "output_type": "stream",
     "text": [
      "[6 7 8]\n",
      "<class 'numpy.ndarray'>\n"
     ]
    }
   ],
   "source": [
    "# provide a list of numbers to the np.array function\n",
    "arr1 = np.array([6, 7, 8])\n",
    "\n",
    "print(arr1)\n",
    "print(type(arr1))"
   ]
  },
  {
   "cell_type": "markdown",
   "metadata": {},
   "source": [
    "A 2D is given by a list of tuples, where each tuple is a row. Hence the following matrix\n",
    "\n",
    "$$\n",
    "\\begin{pmatrix}\n",
    "6 & 7 & 8 \\\\\n",
    "1 & 2 & 3 \n",
    "\\end{pmatrix}\n",
    "$$\n",
    "\n",
    "is given by"
   ]
  },
  {
   "cell_type": "code",
   "execution_count": 37,
   "metadata": {
    "ExecuteTime": {
     "end_time": "2019-10-09T12:15:28.052847Z",
     "start_time": "2019-10-09T12:15:28.045413Z"
    }
   },
   "outputs": [
    {
     "name": "stdout",
     "output_type": "stream",
     "text": [
      "Shape of array is (2, 3)\n",
      "Dimensions of array are 2\n",
      "Size of array is  6\n",
      "Sum of columns is  [21.  6.]\n"
     ]
    }
   ],
   "source": [
    "arr2 = np.array([(6., 7., 8.), (1., 2., 3.)])\n",
    "\n",
    "print('Shape of array is', arr2.shape)       # what is the size of the array\n",
    "\n",
    "print('Dimensions of array are', arr2.ndim)  # how many dimensions does it have\n",
    "\n",
    "print('Size of array is ', arr2.size)        # how many elements does it have\n",
    "\n",
    "print('Sum of columns is ', arr2.sum(axis=1))  # sum the elements for each row\n",
    "                                               # (axis=1 operates over columns)"
   ]
  },
  {
   "cell_type": "markdown",
   "metadata": {
    "nbpresent": {
     "id": "5abf96df-9a80-49f2-9e2e-685eb1f213d4"
    }
   },
   "source": [
    "The last four commands are known as [attributes](#Attributes-and-Methods) of the array and tell us some information about the array.\n",
    "\n",
    "We are not limited to real numbers:"
   ]
  },
  {
   "cell_type": "code",
   "execution_count": 38,
   "metadata": {
    "ExecuteTime": {
     "end_time": "2019-10-09T12:15:28.762729Z",
     "start_time": "2019-10-09T12:15:28.757730Z"
    },
    "nbpresent": {
     "id": "ba15a139-25f8-4166-b140-bbad45305f58"
    }
   },
   "outputs": [
    {
     "data": {
      "text/plain": [
       "array([[1.+0.j, 2.+0.j],\n",
       "       [3.+0.j, 4.+0.j]])"
      ]
     },
     "execution_count": 38,
     "metadata": {},
     "output_type": "execute_result"
    }
   ],
   "source": [
    "c = np.array([[1, 2], [3, 4]], dtype=complex)\n",
    "c"
   ]
  },
  {
   "cell_type": "markdown",
   "metadata": {
    "nbpresent": {
     "id": "7fd179e1-f004-4a61-b1a7-1ef3e8686b9e"
    }
   },
   "source": [
    "We can also create arrays of zeros or ones easily with _numpy_: "
   ]
  },
  {
   "cell_type": "code",
   "execution_count": 39,
   "metadata": {
    "ExecuteTime": {
     "end_time": "2019-10-09T12:15:29.468873Z",
     "start_time": "2019-10-09T12:15:29.464369Z"
    },
    "nbpresent": {
     "id": "3aac2325-0c66-4225-852e-b483b753b2f1"
    }
   },
   "outputs": [
    {
     "data": {
      "text/plain": [
       "array([[0., 0., 0.],\n",
       "       [0., 0., 0.]])"
      ]
     },
     "execution_count": 39,
     "metadata": {},
     "output_type": "execute_result"
    }
   ],
   "source": [
    "np.zeros((2, 3))"
   ]
  },
  {
   "cell_type": "code",
   "execution_count": 40,
   "metadata": {
    "ExecuteTime": {
     "end_time": "2019-10-09T12:15:29.798427Z",
     "start_time": "2019-10-09T12:15:29.794499Z"
    },
    "nbpresent": {
     "id": "8ec2bbc4-057e-4fa3-8f18-fb164d3e95a0"
    }
   },
   "outputs": [
    {
     "data": {
      "text/plain": [
       "array([[1., 1., 1.],\n",
       "       [1., 1., 1.]])"
      ]
     },
     "execution_count": 40,
     "metadata": {},
     "output_type": "execute_result"
    }
   ],
   "source": [
    "np.ones((2, 3))"
   ]
  },
  {
   "cell_type": "markdown",
   "metadata": {
    "nbpresent": {
     "id": "bb63e81a-ced8-4002-b304-b4d37ef9ae43"
    }
   },
   "source": [
    "We can also create arrays containing ordered values:"
   ]
  },
  {
   "cell_type": "code",
   "execution_count": 41,
   "metadata": {
    "ExecuteTime": {
     "end_time": "2019-10-09T12:15:30.457526Z",
     "start_time": "2019-10-09T12:15:30.453352Z"
    },
    "nbpresent": {
     "id": "8e448a8a-4aba-4216-807d-55ce237b64ae"
    }
   },
   "outputs": [
    {
     "data": {
      "text/plain": [
       "array([0, 1, 2, 3, 4, 5, 6, 7, 8, 9])"
      ]
     },
     "execution_count": 41,
     "metadata": {},
     "output_type": "execute_result"
    }
   ],
   "source": [
    "np.arange(0, 10, 1)"
   ]
  },
  {
   "cell_type": "code",
   "execution_count": 42,
   "metadata": {
    "ExecuteTime": {
     "end_time": "2019-10-09T12:15:33.482416Z",
     "start_time": "2019-10-09T12:15:33.477761Z"
    },
    "nbpresent": {
     "id": "a6d702f4-1984-414f-b869-918c99f8c75b"
    }
   },
   "outputs": [
    {
     "name": "stdout",
     "output_type": "stream",
     "text": [
      "[[0.  0.1 0.2 0.3 0.4]\n",
      " [0.5 0.6 0.7 0.8 0.9]]\n",
      "Shape of b is (2, 5)\n"
     ]
    }
   ],
   "source": [
    "b = np.arange(0, 1, 0.1).reshape((2, 5)) # There are other recommended ways to create \n",
    "                                         # floating point arrays in numpy\n",
    "print(b)\n",
    "print('Shape of b is', b.shape)"
   ]
  },
  {
   "cell_type": "markdown",
   "metadata": {
    "nbpresent": {
     "id": "8baf52f0-5e74-4d06-9fd8-ddb0abe289ef"
    }
   },
   "source": [
    "### Basic operations\n",
    "Basic arithmetic operations can be performed on arrays."
   ]
  },
  {
   "cell_type": "code",
   "execution_count": 43,
   "metadata": {
    "ExecuteTime": {
     "end_time": "2019-10-09T12:15:34.354203Z",
     "start_time": "2019-10-09T12:15:34.350380Z"
    },
    "nbpresent": {
     "id": "38ed31c6-038d-4a77-8548-e39b407c9484"
    }
   },
   "outputs": [
    {
     "name": "stdout",
     "output_type": "stream",
     "text": [
      "[ 9 14 19 24]\n"
     ]
    }
   ],
   "source": [
    "a = np.array([5, 10, 15, 20])\n",
    "b = a+4\n",
    "\n",
    "print(b)"
   ]
  },
  {
   "cell_type": "markdown",
   "metadata": {
    "nbpresent": {
     "id": "89b1c374-b28c-4452-b129-b62f4a1515ae"
    }
   },
   "source": [
    "Multiplication is performed element wise, as opposed to typical matrix multiplication. However there are ways to perform linear algebra, e.g. the dot product, but we will not discuss them here."
   ]
  },
  {
   "cell_type": "code",
   "execution_count": 44,
   "metadata": {
    "ExecuteTime": {
     "end_time": "2019-10-09T12:15:34.848948Z",
     "start_time": "2019-10-09T12:15:34.845386Z"
    },
    "nbpresent": {
     "id": "9237d4ed-2f23-4dc1-ba3b-5733dc6dda77"
    }
   },
   "outputs": [
    {
     "name": "stdout",
     "output_type": "stream",
     "text": [
      "[ 45 140 285 480]\n"
     ]
    }
   ],
   "source": [
    "c = a*b\n",
    "\n",
    "print(c)"
   ]
  },
  {
   "cell_type": "code",
   "execution_count": 45,
   "metadata": {
    "ExecuteTime": {
     "end_time": "2019-10-09T12:15:35.077174Z",
     "start_time": "2019-10-09T12:15:35.073484Z"
    },
    "nbpresent": {
     "id": "d0e30447-9aae-4dac-b91e-ed3ef2b97768"
    }
   },
   "outputs": [
    {
     "name": "stdout",
     "output_type": "stream",
     "text": [
      "[-2.87677282 -1.63206333  1.95086352  2.73883575]\n"
     ]
    }
   ],
   "source": [
    "print(3*np.sin(a)) # here we use numpy to get access to mathematical \n",
    "                   # functions, e.g. sin"
   ]
  },
  {
   "cell_type": "markdown",
   "metadata": {
    "nbpresent": {
     "id": "340c6edc-1ef4-4ec4-9ce6-83dc14a81b69"
    }
   },
   "source": [
    "There are more basic mathematical functions available with *numpy*: [https://docs.scipy.org/doc/numpy-1.13.0/reference/routines.math.html](https://docs.scipy.org/doc/numpy-1.13.0/reference/routines.math.html)\n",
    "\n",
    "\n",
    "We can access the different elements of the array by indexing, one-dimensional arrays are similar to lists. There are also tricks to slice arrays and manipulate them ([https://docs.scipy.org/doc/numpy/user/quickstart.html](https://docs.scipy.org/doc/numpy/user/quickstart.html)).\n",
    "\n",
    "The following type of actions are called slicing."
   ]
  },
  {
   "cell_type": "code",
   "execution_count": 46,
   "metadata": {
    "ExecuteTime": {
     "end_time": "2019-10-09T12:15:35.526844Z",
     "start_time": "2019-10-09T12:15:35.521422Z"
    },
    "nbpresent": {
     "id": "5d1dc247-ef30-4204-9a74-4764b41ea178"
    }
   },
   "outputs": [
    {
     "name": "stdout",
     "output_type": "stream",
     "text": [
      "[0 2 4]\n",
      "[9 8 7 6 5 4 3 2 1 0]\n"
     ]
    }
   ],
   "source": [
    "a = np.arange(10)\n",
    "print(a[0:5:2])  # this selects every 2nd element from 0 to 5\n",
    "print(a[::-1])  # this reverses the array"
   ]
  },
  {
   "cell_type": "markdown",
   "metadata": {},
   "source": [
    "Notice what happens when we use the indicies 0 to 5 to select array elements:"
   ]
  },
  {
   "cell_type": "code",
   "execution_count": 47,
   "metadata": {
    "ExecuteTime": {
     "end_time": "2019-10-09T12:15:35.919311Z",
     "start_time": "2019-10-09T12:15:35.916132Z"
    }
   },
   "outputs": [
    {
     "name": "stdout",
     "output_type": "stream",
     "text": [
      "[0 1 2 3 4]\n"
     ]
    }
   ],
   "source": [
    "print(a[0:5])"
   ]
  },
  {
   "cell_type": "code",
   "execution_count": 48,
   "metadata": {
    "ExecuteTime": {
     "end_time": "2019-10-09T12:15:36.148524Z",
     "start_time": "2019-10-09T12:15:36.145287Z"
    }
   },
   "outputs": [
    {
     "name": "stdout",
     "output_type": "stream",
     "text": [
      "[0 1 2 3 4 5 6 7 8]\n",
      "[0 1 2 3 4 5 6 7 8 9]\n"
     ]
    }
   ],
   "source": [
    "print(a[:-1])\n",
    "print(a[:])"
   ]
  },
  {
   "cell_type": "markdown",
   "metadata": {
    "nbpresent": {
     "id": "c7340753-a26d-42b7-9274-8108108c88d1"
    }
   },
   "source": [
    "We can also use Boolean logic to help us investigate arrays "
   ]
  },
  {
   "cell_type": "code",
   "execution_count": 49,
   "metadata": {
    "ExecuteTime": {
     "end_time": "2019-10-09T12:15:36.875308Z",
     "start_time": "2019-10-09T12:15:36.868749Z"
    },
    "nbpresent": {
     "id": "6bc7ad39-26cc-494a-992e-6d91d76335bb"
    }
   },
   "outputs": [
    {
     "name": "stdout",
     "output_type": "stream",
     "text": [
      "[ True  True  True  True  True False False False False False]\n",
      "[0 1 2 3 4]\n",
      "[5]\n",
      "[6 7 8 9]\n"
     ]
    }
   ],
   "source": [
    "print(a < 5)      # This is what happens when we use a comparison operator with\n",
    "                  # the array\n",
    "    \n",
    "print(a[a < 5])   # Now we use logic to return the values that satisfy our\n",
    "                  # comparison (this is not slicing)\n",
    "print(a[a == 5])\n",
    "print(a[a > 5])"
   ]
  },
  {
   "cell_type": "markdown",
   "metadata": {},
   "source": [
    "What happens if we want to know the array locations where a statement is true? (Note - the following is an equivalent to IDL _where_ function - the comma after the index unpacks the tuple)."
   ]
  },
  {
   "cell_type": "code",
   "execution_count": 50,
   "metadata": {
    "ExecuteTime": {
     "end_time": "2019-10-09T12:15:37.484913Z",
     "start_time": "2019-10-09T12:15:37.479866Z"
    }
   },
   "outputs": [
    {
     "name": "stdout",
     "output_type": "stream",
     "text": [
      "[0 1 2 3 4]\n",
      "2 [3 4]\n"
     ]
    }
   ],
   "source": [
    "index, = np.where(a < 5)\n",
    "print(index)\n",
    "\n",
    "index2, = np.where((a > 2) & (a < 5))\n",
    "print(index2.size, index2)"
   ]
  },
  {
   "cell_type": "markdown",
   "metadata": {
    "nbpresent": {
     "id": "8eda49e2-8c45-4663-8e65-ae13b237bbed"
    }
   },
   "source": [
    "For multi-dimensional arrays, the indexing and slicing is similar but requires extra terms. (Note: array referencing is opposite to IDL!)"
   ]
  },
  {
   "cell_type": "code",
   "execution_count": 57,
   "metadata": {
    "ExecuteTime": {
     "end_time": "2019-10-09T12:17:11.597646Z",
     "start_time": "2019-10-09T12:17:11.591961Z"
    },
    "nbpresent": {
     "id": "371926fe-ed99-4595-a589-4bf53ea51544"
    }
   },
   "outputs": [
    {
     "name": "stdout",
     "output_type": "stream",
     "text": [
      "[[0 1 2]\n",
      " [3 4 5]\n",
      " [6 7 8]]\n",
      "Elements in first row [0 1 2]\n",
      "Elements in second column [1 4 7]\n"
     ]
    }
   ],
   "source": [
    "a = np.arange(0, 10, 1)\n",
    "a.resize(3, 3)       # Create 2D array of size 3 by 3\n",
    "\n",
    "print(a)\n",
    "\n",
    "print('Elements in first row', a[0, :])\n",
    "\n",
    "print('Elements in second column', a[:, 1])"
   ]
  },
  {
   "cell_type": "code",
   "execution_count": 58,
   "metadata": {
    "ExecuteTime": {
     "end_time": "2019-10-09T12:17:12.159383Z",
     "start_time": "2019-10-09T12:17:12.155121Z"
    }
   },
   "outputs": [
    {
     "data": {
      "text/plain": [
       "array([ 3, 12, 21])"
      ]
     },
     "execution_count": 58,
     "metadata": {},
     "output_type": "execute_result"
    }
   ],
   "source": [
    "a.sum(axis=1)"
   ]
  },
  {
   "cell_type": "markdown",
   "metadata": {
    "nbpresent": {
     "id": "b1ebf615-30c5-4d90-9b21-3b30ca98ce69"
    }
   },
   "source": [
    "### Array concatenation\n",
    "Different arrays can be combined together via concatenation.\n",
    "\n",
    "I demonstrate two options here. We will investigate the attributes of new array from the concatenation."
   ]
  },
  {
   "cell_type": "code",
   "execution_count": 59,
   "metadata": {
    "ExecuteTime": {
     "end_time": "2019-10-09T12:17:12.949131Z",
     "start_time": "2019-10-09T12:17:12.935791Z"
    },
    "nbpresent": {
     "id": "19172310-2bf7-498a-84ea-31c913d1e98d"
    }
   },
   "outputs": [
    {
     "name": "stdout",
     "output_type": "stream",
     "text": [
      "[[9. 3.]\n",
      " [0. 6.]]\n",
      "Shape (2, 2)\n",
      "[[7. 5.]\n",
      " [3. 2.]]\n",
      "New array \n",
      " [[9. 3. 7. 5.]\n",
      " [0. 6. 3. 2.]]\n",
      "Shape (2, 4)\n"
     ]
    }
   ],
   "source": [
    "# Create a 2 by 2 array of random numbers\n",
    "# and use floor operator to round values down\n",
    "a = np.floor(10.*np.random.random((2, 2)))\n",
    "\n",
    "print(a)\n",
    "print('Shape', a.shape)\n",
    "b = np.floor(10.*np.random.random((2, 2)))\n",
    "print(b)\n",
    "c = np.hstack((a, b))      # horizontal stacking (coulmn wise)\n",
    "print('New array \\n', c)  # \\n indicates start a new line\n",
    "print('Shape', c.shape)"
   ]
  },
  {
   "cell_type": "code",
   "execution_count": 60,
   "metadata": {
    "ExecuteTime": {
     "end_time": "2019-10-09T12:17:13.349525Z",
     "start_time": "2019-10-09T12:17:13.345620Z"
    },
    "nbpresent": {
     "id": "f8ad6588-8f93-4a46-b6a0-aeacdb30fde4"
    }
   },
   "outputs": [
    {
     "name": "stdout",
     "output_type": "stream",
     "text": [
      "New array \n",
      " [[9. 3.]\n",
      " [0. 6.]\n",
      " [7. 5.]\n",
      " [3. 2.]]\n",
      "Shape (4, 2)\n"
     ]
    }
   ],
   "source": [
    "c = np.vstack((a, b))  # Vertical stack (row wise)\n",
    "print('New array \\n', c)\n",
    "print('Shape', c.shape)"
   ]
  },
  {
   "cell_type": "markdown",
   "metadata": {
    "nbpresent": {
     "id": "6c9fbf5e-b1a7-4475-9c37-20f9dc2121d4"
    }
   },
   "source": [
    "A thing to note: when operating and manipulating arrays (this also applies to lists), some actions copy the data into a new, unique array (operations of new array don't influence previous version). However, some actions do not create a unique copy of the array (operations on the new array affect the old array)."
   ]
  },
  {
   "cell_type": "code",
   "execution_count": 61,
   "metadata": {
    "ExecuteTime": {
     "end_time": "2019-10-09T12:17:14.133049Z",
     "start_time": "2019-10-09T12:17:14.122041Z"
    },
    "nbpresent": {
     "id": "b8844fee-6f35-47c5-bf01-f12b42e32e4c"
    }
   },
   "outputs": [
    {
     "name": "stdout",
     "output_type": "stream",
     "text": [
      "Shape of a is  (2, 4)\n",
      "4592075360 4592075360\n",
      "Is b the same object as a?  True\n",
      "New shape of a is  (4, 2)\n"
     ]
    }
   ],
   "source": [
    "a = np.floor(10.*np.random.random((2, 4)))\n",
    "print('Shape of a is ', a.shape)\n",
    "b = a                 # no new object is created\n",
    "\n",
    "\n",
    "# Python gives each object a unique identfier,\n",
    "# hence if a and b are the same, the id should be the same\n",
    "print(id(a), id(b))\n",
    "\n",
    "# is checks whether two things are the same object\n",
    "print('Is b the same object as a? ', b is a)\n",
    "\n",
    "b.shape = 4, 2\n",
    "print('New shape of a is ', a.shape)      # Changing shape of b changes a"
   ]
  },
  {
   "cell_type": "markdown",
   "metadata": {
    "nbpresent": {
     "id": "3a401f52-e84a-4095-b7d1-0dba2b0f300e"
    }
   },
   "source": [
    "Similar behavior happens with new arrays created by slicing (called _shallow_ or _view_ copies)."
   ]
  },
  {
   "cell_type": "code",
   "execution_count": 62,
   "metadata": {
    "ExecuteTime": {
     "end_time": "2019-10-09T12:17:14.978853Z",
     "start_time": "2019-10-09T12:17:14.970490Z"
    },
    "nbpresent": {
     "id": "f184ff8b-c7f5-4934-95a1-c647d04a1367"
    }
   },
   "outputs": [
    {
     "name": "stdout",
     "output_type": "stream",
     "text": [
      "This is a\n",
      " [[4. 7. 9. 2.]\n",
      " [9. 8. 0. 1.]]\n",
      "This is s\n",
      " [4. 7. 9. 2.]\n",
      "This is a\n",
      " [[20.  7.  9.  2.]\n",
      " [ 9.  8.  0.  1.]]\n"
     ]
    }
   ],
   "source": [
    "a = np.floor(10.*np.random.random((2, 4)))\n",
    "print('This is a\\n', a)\n",
    "s = a[0, :]\n",
    "print('This is s\\n', s)\n",
    "s[0] = 20.\n",
    "print('This is a\\n', a)      # a's data changes"
   ]
  },
  {
   "cell_type": "markdown",
   "metadata": {
    "nbpresent": {
     "id": "04ac1773-e77f-4083-9999-2e64ae0ff4d2"
    }
   },
   "source": [
    "To make a copy, you need to use the copy method"
   ]
  },
  {
   "cell_type": "code",
   "execution_count": 63,
   "metadata": {
    "ExecuteTime": {
     "end_time": "2019-10-09T12:17:15.662317Z",
     "start_time": "2019-10-09T12:17:15.653113Z"
    },
    "nbpresent": {
     "id": "ca3fe2c1-0255-47bc-8114-5e34096910f7"
    }
   },
   "outputs": [
    {
     "name": "stdout",
     "output_type": "stream",
     "text": [
      "Is b the same object as a?  False\n",
      "[[4. 1. 5. 3.]\n",
      " [1. 9. 0. 3.]]\n",
      "This is a\n",
      " [[4. 1. 5. 3.]\n",
      " [1. 9. 0. 3.]]\n",
      "(2, 4)\n"
     ]
    }
   ],
   "source": [
    "a = np.floor(10.*np.random.random((2, 4)))\n",
    "b = a.copy()\n",
    "print('Is b the same object as a? ', b is a)\n",
    "print(b)\n",
    "b.shape = (4, 2)   # Change shape of b\n",
    "b[0, 0] = 20.      # Change value in b\n",
    "print('This is a\\n', a)\n",
    "print(a.shape)"
   ]
  },
  {
   "cell_type": "markdown",
   "metadata": {
    "nbpresent": {
     "id": "89c56460-78b7-4831-8397-77367333c338"
    }
   },
   "source": [
    "## Mutable vs immutable\n",
    "\n",
    "Different data types are either mutable (can change) or immutable (can't be changed). For example a list is mutable and a string isn't mutable.\n",
    "\n",
    "The following two examples show this. Trying to change a string creates an error:"
   ]
  },
  {
   "cell_type": "code",
   "execution_count": 64,
   "metadata": {
    "ExecuteTime": {
     "end_time": "2019-10-09T12:17:16.081877Z",
     "start_time": "2019-10-09T12:17:16.070499Z"
    },
    "nbpresent": {
     "id": "cb46a348-0ee3-4b3d-91d8-7e2e31fde1d3"
    }
   },
   "outputs": [
    {
     "ename": "TypeError",
     "evalue": "'str' object does not support item assignment",
     "output_type": "error",
     "traceback": [
      "\u001b[0;31m---------------------------------------------------------------------------\u001b[0m",
      "\u001b[0;31mTypeError\u001b[0m                                 Traceback (most recent call last)",
      "\u001b[0;32m<ipython-input-64-071dcd339b16>\u001b[0m in \u001b[0;36m<module>\u001b[0;34m()\u001b[0m\n\u001b[1;32m      1\u001b[0m \u001b[0mstring\u001b[0m\u001b[0;34m=\u001b[0m\u001b[0;34m'Hello'\u001b[0m\u001b[0;34m\u001b[0m\u001b[0m\n\u001b[0;32m----> 2\u001b[0;31m \u001b[0mstring\u001b[0m\u001b[0;34m[\u001b[0m\u001b[0;36m1\u001b[0m\u001b[0;34m]\u001b[0m\u001b[0;34m=\u001b[0m\u001b[0;34m'a'\u001b[0m  \u001b[0;31m# Trying to change second letter of Hello to a\u001b[0m\u001b[0;34m\u001b[0m\u001b[0m\n\u001b[0m",
      "\u001b[0;31mTypeError\u001b[0m: 'str' object does not support item assignment"
     ]
    }
   ],
   "source": [
    "string = 'Hello'\n",
    "string[1] = 'a'  # Trying to change second letter of Hello to a"
   ]
  },
  {
   "cell_type": "code",
   "execution_count": 65,
   "metadata": {
    "ExecuteTime": {
     "end_time": "2019-10-09T12:17:16.441324Z",
     "start_time": "2019-10-09T12:17:16.437447Z"
    },
    "nbpresent": {
     "id": "c24ee5f3-8a5f-4a1c-9e3b-d34c12d8a970"
    }
   },
   "outputs": [
    {
     "name": "stdout",
     "output_type": "stream",
     "text": [
      "[1, 'grape', 3]\n"
     ]
    }
   ],
   "source": [
    "list_example = [1, 2, 3]\n",
    "list_example[1] = 'grape'\n",
    "print(list_example)"
   ]
  },
  {
   "cell_type": "markdown",
   "metadata": {},
   "source": [
    "## Objects, Attributes and Methods\n",
    "\n",
    "While we will not go deeply into this aspect, I note that Python is an [object-orientated language](https://en.wikipedia.org/wiki/Object-oriented_programming). Hence, that is why we said we have, e.g. an integer class ([Section 4](#Data-types)) - where a class refers to a group of objects with common properties.\n",
    "\n",
    "Given that Python is an object-orientated language, most data types and containers have two features known as attributes and methods.\n",
    "\n",
    "Attributes are properties of the class.\n",
    "\n",
    "Methods are essentially operations or functions that belong to the objects data.\n",
    "\n",
    "We have already encountered attributes and methods before. You can see some of the attributes and methods of each object by using tab-complete. The available attributes and methods differ for different objects. \n"
   ]
  },
  {
   "cell_type": "code",
   "execution_count": 66,
   "metadata": {
    "ExecuteTime": {
     "end_time": "2019-10-09T12:17:17.281224Z",
     "start_time": "2019-10-09T12:17:17.277793Z"
    }
   },
   "outputs": [
    {
     "ename": "SyntaxError",
     "evalue": "invalid syntax (<ipython-input-66-2568b5f369c2>, line 1)",
     "output_type": "error",
     "traceback": [
      "\u001b[0;36m  File \u001b[0;32m\"<ipython-input-66-2568b5f369c2>\"\u001b[0;36m, line \u001b[0;32m1\u001b[0m\n\u001b[0;31m    list_example.\u001b[0m\n\u001b[0m                 ^\u001b[0m\n\u001b[0;31mSyntaxError\u001b[0m\u001b[0;31m:\u001b[0m invalid syntax\n"
     ]
    }
   ],
   "source": [
    "list_example."
   ]
  },
  {
   "cell_type": "code",
   "execution_count": 67,
   "metadata": {
    "ExecuteTime": {
     "end_time": "2019-10-09T12:17:17.704543Z",
     "start_time": "2019-10-09T12:17:17.695282Z"
    }
   },
   "outputs": [],
   "source": [
    "class Point:\n",
    "    \"\"\" Point class represents and manipulates x,y coords. \"\"\"\n",
    "\n",
    "    def __init__(self, x=0, y=0):\n",
    "        \"\"\" Create a new point at x, y \"\"\"\n",
    "        self.x = x\n",
    "        self.y = y\n",
    "        \n",
    "    def distance_from_origin(self):\n",
    "        \"\"\" Compute my distance from the origin \"\"\"\n",
    "        return ((self.x ** 2) + (self.y ** 2)) ** 0.5\n",
    "    \n",
    "    "
   ]
  },
  {
   "cell_type": "code",
   "execution_count": 68,
   "metadata": {
    "ExecuteTime": {
     "end_time": "2019-10-09T12:17:18.060431Z",
     "start_time": "2019-10-09T12:17:18.055887Z"
    }
   },
   "outputs": [
    {
     "name": "stdout",
     "output_type": "stream",
     "text": [
      "<class '__main__.Point'>\n",
      "3 4\n",
      "5.0\n"
     ]
    }
   ],
   "source": [
    "p=Point(3,4)   # create an object p\n",
    "print(type(p))\n",
    "print(p.x,p.y) # attributes\n",
    "print(p.distance_from_origin()) # method"
   ]
  }
 ],
 "metadata": {
  "anaconda-cloud": {},
  "celltoolbar": "Raw Cell Format",
  "kernelspec": {
   "display_name": "Python 3",
   "language": "python",
   "name": "python3"
  },
  "language_info": {
   "codemirror_mode": {
    "name": "ipython",
    "version": 3
   },
   "file_extension": ".py",
   "mimetype": "text/x-python",
   "name": "python",
   "nbconvert_exporter": "python",
   "pygments_lexer": "ipython3",
   "version": "3.7.4"
  },
  "toc": {
   "base_numbering": 1,
   "nav_menu": {},
   "number_sections": true,
   "sideBar": true,
   "skip_h1_title": false,
   "title_cell": "Table of Contents",
   "title_sidebar": "Contents",
   "toc_cell": false,
   "toc_position": {
    "height": "calc(100% - 180px)",
    "left": "10px",
    "top": "150px",
    "width": "206px"
   },
   "toc_section_display": true,
   "toc_window_display": true
  },
  "varInspector": {
   "cols": {
    "lenName": 16,
    "lenType": 16,
    "lenVar": 40
   },
   "kernels_config": {
    "python": {
     "delete_cmd_postfix": "",
     "delete_cmd_prefix": "del ",
     "library": "var_list.py",
     "varRefreshCmd": "print(var_dic_list())"
    },
    "r": {
     "delete_cmd_postfix": ") ",
     "delete_cmd_prefix": "rm(",
     "library": "var_list.r",
     "varRefreshCmd": "cat(var_dic_list()) "
    }
   },
   "types_to_exclude": [
    "module",
    "function",
    "builtin_function_or_method",
    "instance",
    "_Feature"
   ],
   "window_display": false
  }
 },
 "nbformat": 4,
 "nbformat_minor": 2
}
