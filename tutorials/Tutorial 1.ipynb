{
 "cells": [
  {
   "cell_type": "markdown",
   "id": "377c18be",
   "metadata": {
    "ExecuteTime": {
     "end_time": "2021-06-10T11:40:22.905484Z",
     "start_time": "2021-06-10T11:40:22.898310Z"
    },
    "code_folding": [
     0
    ]
   },
   "source": [
    "%%html\n",
    "<style>\n",
    "    @media print { \n",
    "        * {\n",
    "             box-sizing: border-box;\n",
    "          }\n",
    "        .row {\n",
    "             display: flex;\n",
    "         }\n",
    "       /* Create two equal columns that sits next to each other */\n",
    "       .column {\n",
    "          flex: 50%;\n",
    "          padding: 10px;\n",
    "  \n",
    "        }\n",
    "        \n",
    "        div.input {\n",
    "          display: none;\n",
    "          padding: 0;\n",
    "        }\n",
    "        div.output_prompt {\n",
    "          display: none;\n",
    "          padding: 0;\n",
    "        }\n",
    "        div.text_cell_render {\n",
    "          padding: 1pt;\n",
    "        }\n",
    "        div#notebook p,\n",
    "        div#notebook,\n",
    "        div#notebook li,\n",
    "        p {\n",
    "          font-size: 10pt;\n",
    "          line-height: 115%;\n",
    "          margin: 0;\n",
    "        }\n",
    "        .rendered_html h1,\n",
    "        .rendered_html h1:first-child {\n",
    "          font-size: 10pt;\n",
    "          margin: 3pt 0;\n",
    "        }\n",
    "       .rendered_html h2,\n",
    "       .rendered_html h2:first-child {\n",
    "          font-size: 10pt;\n",
    "          margin: 3pt 0;\n",
    "       }\n",
    "       .rendered_html h3,\n",
    "       .rendered_html h3:first-child {\n",
    "         font-size: 10pt;\n",
    "         margin: 3pt 0;\n",
    "       }\n",
    "       div.output_subarea {\n",
    "         padding: 0;\n",
    "       }\n",
    "       div.input_prompt{\n",
    "         display: none;\n",
    "         padding: 0;\n",
    "      }\n",
    "}"
   ]
  },
  {
   "cell_type": "markdown",
   "id": "1040a1da",
   "metadata": {},
   "source": [
    "<h1><center>Tutorial sheet 1</center></h1> \n",
    "\n",
    "This set of exercises follows on from the topics discussed in the ‘Python Introduction Part 1’ notes and lectures. \n",
    "\n",
    "They exercises cover some of the fundamental aspects of programming. The easier exercises cover mathematical and Boolean operations and strings. These aspects are similar to other languages, e.g. MATLAB, so you may already be familiar with them.\n",
    "\n",
    "The harder exercises focusing on using more advanced data structures in Python that may or may not be in other languages, for example, lists and arrays.\n",
    "\n",
    "\n",
    "You can complete the following exerices in Pycharm, a python terminal, or in a script, if you desire. \n",
    "\n",
    "<br>\n",
    "\n",
    "<br>\n",
    "\n",
    "---\n",
    "\n",
    "**NOTE**: For any function you haven’t met before, you can use ? to find out information, e.g. ```print?``` You will need to hit q to exit from the help. \n",
    "\n",
    "| | |\n",
    "|-|-|\n",
    "|You can also find all the documentation for ```numpy``` on their website [https://numpy.org](https://numpy.org). | <img src=\"https://user-images.githubusercontent.com/50221806/86498222-c4c12800-bd39-11ea-9709-160ad4ba63e1.png\" width=200 float=\"right\">|\n",
    "\n",
    "\n",
    "\n",
    "\n",
    "---\n",
    "\n",
    "You will need to ```import numpy as np``` to complete the following exercise. To run a cell, click on it and use ```Shift+Enter```. "
   ]
  },
  {
   "cell_type": "code",
   "execution_count": null,
   "id": "60093bb1",
   "metadata": {},
   "outputs": [],
   "source": [
    "# RUN THIS CELL FIRST\n",
    "import numpy as np"
   ]
  },
  {
   "cell_type": "markdown",
   "id": "c1337ef6",
   "metadata": {},
   "source": [
    "## Q1 Mathematical operators\n",
    "\n",
    "In the following exercises you will have to fill in the blanks. Where ever you see ```....``` you will need to replace these with the correct code. \n",
    "\n",
    "**a)** Assign the product of 7 and 3 to the variable a."
   ]
  },
  {
   "cell_type": "code",
   "execution_count": null,
   "id": "b8aac8ff",
   "metadata": {},
   "outputs": [],
   "source": [
    ".... = 7 .... 3\n",
    "print(a)"
   ]
  },
  {
   "cell_type": "markdown",
   "id": "570f1fe8",
   "metadata": {},
   "source": [
    "<br>\n",
    "\n",
    "**b)** Print the type of a."
   ]
  },
  {
   "cell_type": "code",
   "execution_count": null,
   "id": "4a7466b4",
   "metadata": {},
   "outputs": [],
   "source": [
    "print(....(a))"
   ]
  },
  {
   "cell_type": "markdown",
   "id": "ceea487d",
   "metadata": {},
   "source": [
    "<br>\n",
    "\n",
    "**c)** Calculate the division of 7 and 3, assign this to the variable b. Print b and its type.\n"
   ]
  },
  {
   "cell_type": "code",
   "execution_count": null,
   "id": "e2832e37",
   "metadata": {},
   "outputs": [],
   "source": [
    "b = 7....3\n",
    "print(....)\n",
    "print(....(b))"
   ]
  },
  {
   "cell_type": "markdown",
   "id": "76df683e",
   "metadata": {},
   "source": [
    "<br>\n",
    "\n",
    "**d)** Calculate the **integer** division of 7 and 3, assign this to the variable c. Print c and its type.\n"
   ]
  },
  {
   "cell_type": "code",
   "execution_count": null,
   "id": "15eea26d",
   "metadata": {},
   "outputs": [],
   "source": [
    ".... .... 7....3\n",
    "print(....)\n",
    "print(....(c))"
   ]
  },
  {
   "cell_type": "markdown",
   "id": "bfba95ff",
   "metadata": {},
   "source": [
    "<br>\n",
    "\n",
    "**e)**\tApply the cosine operator to the value 2 and then apply the inverse cosine to the answer. Print the result.\n"
   ]
  },
  {
   "cell_type": "code",
   "execution_count": null,
   "id": "56d5d69d",
   "metadata": {},
   "outputs": [],
   "source": [
    "d = np.....(2)\n",
    "e = np.....()\n",
    "print(e)"
   ]
  },
  {
   "cell_type": "markdown",
   "id": "500d6391",
   "metadata": {},
   "source": [
    "<br>\n",
    "\n",
    "**f)**\tApply the cosine operator to the value 4 and then apply the inverse cosine to the answer. How does this differ to what happened in e) and why?\n"
   ]
  },
  {
   "cell_type": "code",
   "execution_count": null,
   "id": "81e885d2",
   "metadata": {},
   "outputs": [],
   "source": [
    "d = np.....(4)\n",
    "e = np.....()\n",
    "print(e)"
   ]
  },
  {
   "cell_type": "markdown",
   "id": "5f329625",
   "metadata": {},
   "source": [
    "<br>\n",
    "\n",
    "**g)**\tPrint the square of 5.\n"
   ]
  },
  {
   "cell_type": "code",
   "execution_count": null,
   "id": "75ed4d2e",
   "metadata": {},
   "outputs": [],
   "source": [
    "print(5....2)"
   ]
  },
  {
   "cell_type": "markdown",
   "id": "51c6b11b",
   "metadata": {},
   "source": [
    "<br>\n",
    "\n",
    "**h)**\tFind the remainder of 18 divided by 4 using the modulo operator.\n"
   ]
  },
  {
   "cell_type": "code",
   "execution_count": null,
   "id": "c3aef603",
   "metadata": {},
   "outputs": [],
   "source": [
    "remainder = 18 .... ....\n",
    "print(remainder)"
   ]
  },
  {
   "cell_type": "markdown",
   "id": "ee4a020b",
   "metadata": {},
   "source": [
    "<br>\n",
    "\n",
    "**i)**\tHere we are going to calculate the interest earned on your savings. \n",
    "\n",
    "i) Create a variable called ```savings``` and assign it a value of a 100. \n",
    "\n",
    "ii) Next we'll calculate the amount earnt after 7 years if the interest rate is 2%. Assign each number to a variable.\n",
    "\n",
    "iii) Complete the final calculation for the profit by inserting the correct operators"
   ]
  },
  {
   "cell_type": "code",
   "execution_count": null,
   "id": "bb34f424",
   "metadata": {},
   "outputs": [],
   "source": [
    ".... = ....\n",
    "\n",
    "years = ....\n",
    "interest_rate = ....\n",
    "\n",
    "profit = savings ....(1 .... interest_rate) .... years\n",
    "\n",
    "print('Profit = {}'.format(profit))\n",
    "\n",
    "print('Correct answer is {0:1.2f} (rounded to 2 decimal places)'.format(114.868566764928))"
   ]
  },
  {
   "cell_type": "markdown",
   "id": "da80c7a3",
   "metadata": {},
   "source": [
    "<br>\n",
    "\n",
    "## Q2\tLogic and Relation Operators\n",
    "\n",
    "Using the logical operators, find the Boolean values of the following:\n",
    "\n",
    "**a)**\tWhether 9 is equal to 3."
   ]
  },
  {
   "cell_type": "code",
   "execution_count": null,
   "id": "1460f226",
   "metadata": {},
   "outputs": [],
   "source": [
    "print(9 .... 3)"
   ]
  },
  {
   "cell_type": "markdown",
   "id": "7a353aa3",
   "metadata": {},
   "source": [
    "<br>\n",
    "\n",
    "**b)**\tWhether 9 is equal to 9."
   ]
  },
  {
   "cell_type": "code",
   "execution_count": null,
   "id": "cd352a45",
   "metadata": {},
   "outputs": [],
   "source": [
    "print(9 .... 9)"
   ]
  },
  {
   "cell_type": "markdown",
   "id": "964d0bfb",
   "metadata": {},
   "source": [
    "<br>\n",
    "\n",
    "**c)**\tWhether 9 is not equal to 3.\n"
   ]
  },
  {
   "cell_type": "code",
   "execution_count": null,
   "id": "eec26b27",
   "metadata": {},
   "outputs": [],
   "source": [
    "print(9 .... 3)"
   ]
  },
  {
   "cell_type": "markdown",
   "id": "f72dc17d",
   "metadata": {},
   "source": [
    "<br>\n",
    "\n",
    "**d)**\tWhether 9 is not equal to 9."
   ]
  },
  {
   "cell_type": "code",
   "execution_count": null,
   "id": "11eb372f",
   "metadata": {},
   "outputs": [],
   "source": [
    "print(9 .... 9)"
   ]
  },
  {
   "cell_type": "markdown",
   "id": "535d6bde",
   "metadata": {},
   "source": [
    "<br>\n",
    "\n",
    "**e)**\tWhether 9 is greater than 3"
   ]
  },
  {
   "cell_type": "code",
   "execution_count": null,
   "id": "985aeee6",
   "metadata": {},
   "outputs": [],
   "source": [
    "print(9 .... 3)"
   ]
  },
  {
   "cell_type": "markdown",
   "id": "5cb0b408",
   "metadata": {},
   "source": [
    "<br>\n",
    "\n",
    "**f)**\tWhether 9 is greater than 9."
   ]
  },
  {
   "cell_type": "code",
   "execution_count": null,
   "id": "c09dbfd2",
   "metadata": {},
   "outputs": [],
   "source": [
    "print(9 .... 9)"
   ]
  },
  {
   "cell_type": "markdown",
   "id": "6f176111",
   "metadata": {},
   "source": [
    "<br>\n",
    "\n",
    "**g)**\tWhether 9 is greater than 3 and less than 13."
   ]
  },
  {
   "cell_type": "code",
   "execution_count": null,
   "id": "42ebab3b",
   "metadata": {},
   "outputs": [],
   "source": [
    "print(9 .... 3 .... 9 .... 13)"
   ]
  },
  {
   "cell_type": "markdown",
   "id": "cb470ac7",
   "metadata": {},
   "source": [
    "<br>\n",
    "\n",
    "**h)**\tWhether 9 is greater than 3 or less than 7. "
   ]
  },
  {
   "cell_type": "code",
   "execution_count": null,
   "id": "1667c550",
   "metadata": {},
   "outputs": [],
   "source": [
    "print(9 .... 3 .... 9 .... 7)"
   ]
  },
  {
   "cell_type": "markdown",
   "id": "8b8dc488",
   "metadata": {},
   "source": [
    "<br>\n",
    "\n",
    "## Q3 Strings\n",
    "\n",
    "The following exercises focus on operations with strings.\n",
    "\n",
    "**a)**\t(i) Assign the string ```'hello’``` to a variable called ```greeting``` and then your name to a variable called ```name```. \n",
    "\n",
    "(ii) Combine the two strings with the ```+``` operator and print the result. \n"
   ]
  },
  {
   "cell_type": "code",
   "execution_count": null,
   "id": "52e75bc6",
   "metadata": {},
   "outputs": [],
   "source": [
    ".... = 'hello'\n",
    "name = ....\n",
    "\n",
    "print(.... .... ....)"
   ]
  },
  {
   "cell_type": "markdown",
   "id": "3b3142f8",
   "metadata": {},
   "source": [
    "<br>\n",
    "\n",
    "**b)**\tCreate another string that says ```‘My age is ‘``` , and a variable ```age``` and assign it your age as a numerical values (i.e. without string quotation). Try to combine the variables - you should see an error message."
   ]
  },
  {
   "cell_type": "code",
   "execution_count": null,
   "id": "43b0e0ba",
   "metadata": {},
   "outputs": [],
   "source": [
    "phrase = ....\n",
    "age = ....\n",
    "\n",
    "print(phrase + age)"
   ]
  },
  {
   "cell_type": "markdown",
   "id": "ab5fb5ef",
   "metadata": {},
   "source": [
    "<br>\n",
    "\n",
    "**c)**\tUsing the function str(), convert the age variable to a string and try combining both again."
   ]
  },
  {
   "cell_type": "code",
   "execution_count": null,
   "id": "511cd218",
   "metadata": {},
   "outputs": [],
   "source": [
    "phrase = ....\n",
    "age = ....\n",
    "\n",
    "print(phrase + ...(age))"
   ]
  },
  {
   "cell_type": "markdown",
   "id": "db917200",
   "metadata": {},
   "source": [
    "<br>\n",
    "\n",
    "**d)**\tYou can also use the ```format``` method for strings to insert variables (of any type) into strings. Re-do exercise c) with the format method. "
   ]
  },
  {
   "cell_type": "code",
   "execution_count": null,
   "id": "552984f9",
   "metadata": {},
   "outputs": [],
   "source": [
    "age = ....\n",
    "\n",
    "phrase = 'My age is {}'.format(....)\n"
   ]
  },
  {
   "cell_type": "markdown",
   "id": "ec003bc8",
   "metadata": {},
   "source": [
    "## Q4 Lists\n",
    "\n",
    "In the following exercise we will use and manipulate lists to look at the masses to stars. Remember, lists are defined by square brackets, e.g. ```a_list = [1, 2, 3]```\n",
    "\n",
    "The following table shows 5 of the most massive stars known (mass given as solar masses): \n",
    "\n",
    "| STAR\t| MASS ($M_\\odot$) |\n",
    "| --- | --- |\n",
    "| R136A1 |\t315 |\n",
    "| R136C\t| 230 |\n",
    "|BAT99-98 |\t226 |\n",
    "| R136A2\t| 195 |\n",
    "| MELNIC-42 |\t189 |\n",
    "\n",
    "\n",
    "**a)**\tAssign each of the following stellar masses to variables named after the stars. Using these variables, create a list of the star’s masses from largest to smallest."
   ]
  },
  {
   "cell_type": "code",
   "execution_count": null,
   "id": "d57b888d",
   "metadata": {},
   "outputs": [],
   "source": [
    "R136A1 = ....\n",
    ".... = 230 \n",
    "BAT99_98 = 226 \n",
    "R136A2 = 195 \n",
    ".... = 189\n",
    "\n",
    "star_mass = ....\n",
    "\n",
    "print(star_mass)"
   ]
  },
  {
   "cell_type": "markdown",
   "id": "27f5c906",
   "metadata": {},
   "source": [
    "<br>\n",
    "\n",
    "**b)**\tWhen we printed the above list to screen, it is not very useful as it only contains masses. How do we know which star has which mass? \n",
    "\n",
    "Create a list of lists, with each sub-list containing the name and mass of the star."
   ]
  },
  {
   "cell_type": "code",
   "execution_count": null,
   "id": "63d2a4a1",
   "metadata": {},
   "outputs": [],
   "source": [
    "star_mass = [ ['R136A1', R136A1],\n",
    "              [.... , ....],\n",
    "              [.... , ....],\n",
    "              [.... , ....],\n",
    "              [.... , ....]\n",
    "             ]"
   ]
  },
  {
   "cell_type": "markdown",
   "id": "87ad9cf8",
   "metadata": {},
   "source": [
    "<br>\n",
    "\n",
    "**c)** i) Print out the second element of list. You should get back [R136c, 230].\n",
    " \n",
    "ii) Print out the last element of the list using negative indices.\n"
   ]
  },
  {
   "cell_type": "code",
   "execution_count": null,
   "id": "e06a4b87",
   "metadata": {},
   "outputs": [],
   "source": [
    "print(star_mass[....])\n",
    "print(star_mass[....])"
   ]
  },
  {
   "cell_type": "markdown",
   "id": "aabfbe1b",
   "metadata": {},
   "source": [
    "<br>\n",
    "\n",
    "**d)** i)\tUse list slicing to create a new list of the 3 most massive stars.\n",
    "ii)\tFrom the list, print the mass of Melnic-42 only."
   ]
  },
  {
   "cell_type": "code",
   "execution_count": null,
   "id": "dc0f344d",
   "metadata": {},
   "outputs": [],
   "source": [
    "new_star_list = star_list[....]\n",
    "\n",
    "....(new_star_list[....,....])"
   ]
  },
  {
   "cell_type": "markdown",
   "id": "e7c31e63",
   "metadata": {},
   "source": [
    "<br>\n",
    "\n",
    "**e)** i) Add the details of HD15558A – 152 $M_\\odot$, to the original list using the ```append``` method. \n",
    "ii) Delete the value of R136a1 from the list using the ```del()``` function.\n",
    "iii) Print the new list."
   ]
  },
  {
   "cell_type": "code",
   "execution_count": null,
   "id": "f5f66fe0",
   "metadata": {},
   "outputs": [],
   "source": [
    "star_mass.....([...., ....])\n",
    "\n",
    "....(star_mass[....])\n",
    "\n",
    "....(....)"
   ]
  },
  {
   "cell_type": "markdown",
   "id": "bf828770",
   "metadata": {},
   "source": [
    "<br>\n",
    "\n",
    "## Q5 Arrays \n",
    "\n",
    "The following exercises will look at creating and manipulating ```numpy``` arrays. These arrays will be one of the most suitable objects to use when handling numerical data in python.\n",
    "\n",
    "\n",
    "The following table gives the details of some stars to be used in the following exercises.\n",
    "\n",
    "|Class | Radius ($R_\\odot$) | Mass ($M_\\odot$) | Luminosity ($L_\\odot$) | Temp ($K$) | Name |\n",
    "| --- | --- | --- | --- |--- | --- |\n",
    "| O6| 18 | 40  | 500,000| 38,000 | Theta1 Orionis C|\n",
    "| B0| 7.4| 18  | 20,000\t| 30,000 | Phi1 Orionis|\n",
    "| B5| 3.8| 6.5 | 800 | 16,400 |\tPi Andromedae A|\n",
    "| A0| 2.5| 3.2 | 80 | 10,800 | Alpha Coronae Borealis A|\n",
    "| A5| 1.7| 2.1 | 20 | 8,620\t| Beta Pictoris|\n",
    "| F0| 1.3| 1.7 | 6 | 7,240 | Gamma Virginis|\n",
    "| F5| 1.2| 1.3 | 2.5 | 6,540 | Eta Arietis|\n",
    " \n"
   ]
  },
  {
   "cell_type": "markdown",
   "id": "dd719d44",
   "metadata": {},
   "source": [
    "<br>\n",
    "\n",
    "**a)**\tCreate a list that contains the numbers radius of the stars, and then use the numpy.array function to make this into a numpy array. Print out the type of the variable to check it is a numpy array.\n"
   ]
  },
  {
   "cell_type": "code",
   "execution_count": null,
   "id": "2a5f0465",
   "metadata": {},
   "outputs": [],
   "source": [
    "rad_list = [....]\n",
    "\n",
    "star_radius = np.array(....)\n",
    "\n",
    "print(....(star_radius))"
   ]
  },
  {
   "cell_type": "markdown",
   "id": "e65c17c0",
   "metadata": {},
   "source": [
    "<br>\n",
    "\n",
    "**b)**\tCreate another array that contains the mass of the stars."
   ]
  },
  {
   "cell_type": "code",
   "execution_count": null,
   "id": "500340e0",
   "metadata": {},
   "outputs": [],
   "source": [
    "stars_mass = np.array(....)"
   ]
  },
  {
   "cell_type": "markdown",
   "id": "b88112f8",
   "metadata": {},
   "source": [
    "<br>\n",
    "\n",
    "**c)**\tCreate a new array that uses the previous radius array to calculate the volume of each star (assuming sphericity). Print out the results.\n",
    "\n",
    "Hint: the value of pi is defined within numpy."
   ]
  },
  {
   "cell_type": "code",
   "execution_count": null,
   "id": "2b351e67",
   "metadata": {},
   "outputs": [],
   "source": [
    "star_volume = (..../....)*....**...."
   ]
  },
  {
   "cell_type": "markdown",
   "id": "d100cfb2",
   "metadata": {},
   "source": [
    "<br>\n",
    "\n",
    "**d)**\tCreate a new array that contains the calculation of each star’s density, using the volume and mass arrays. Print out the results.\n"
   ]
  },
  {
   "cell_type": "code",
   "execution_count": null,
   "id": "5e04b288",
   "metadata": {},
   "outputs": [],
   "source": [
    "star_density = ...."
   ]
  },
  {
   "cell_type": "markdown",
   "id": "e81ba6e5",
   "metadata": {},
   "source": [
    "<br>\n",
    "\n",
    "**e)**\tFind the maximum, minimum and mean values of density using either the array methods or the numpy functions.\n",
    "\n"
   ]
  },
  {
   "cell_type": "code",
   "execution_count": null,
   "id": "4d3aa47c",
   "metadata": {},
   "outputs": [],
   "source": [
    "max_density = star_density.....()\n",
    "\n",
    "min_density = .....min()\n",
    "\n",
    "mean_density = star_density....\n",
    "\n",
    "print(max_density, min_density, mean_density)"
   ]
  },
  {
   "cell_type": "markdown",
   "id": "7f84595d",
   "metadata": {},
   "source": [
    "<br>\n",
    "\n",
    "**f)** Create a Boolean numpy array that contains the elements of ```True``` if the star’s density is greater than the mean value and ```False``` otherwise (you will have to use relational operators). Print out the array."
   ]
  },
  {
   "cell_type": "code",
   "execution_count": null,
   "id": "9cb37df2",
   "metadata": {},
   "outputs": [],
   "source": [
    "index = star_density .... mean_density\n",
    "\n",
    "print()"
   ]
  },
  {
   "cell_type": "markdown",
   "id": "3bb4da5b",
   "metadata": {},
   "source": [
    "<br>\n",
    "\n",
    "**g)**\tUse the Boolean numpy array to print the values of the star’s mass whose density is greater than the mean.\n"
   ]
  },
  {
   "cell_type": "code",
   "execution_count": null,
   "id": "e0091728",
   "metadata": {},
   "outputs": [],
   "source": [
    "print(star_mass[....])"
   ]
  },
  {
   "cell_type": "markdown",
   "id": "cf673ceb",
   "metadata": {},
   "source": [
    "<br>\n",
    "\n",
    "**h)** Print out the mass value of the star at index 3. Then print out the mass value of the stars up to and including index 5."
   ]
  },
  {
   "cell_type": "code",
   "execution_count": null,
   "id": "5561d8b5",
   "metadata": {},
   "outputs": [],
   "source": [
    "print(....)\n",
    "print(star_mass[....])"
   ]
  },
  {
   "cell_type": "markdown",
   "id": "2d22009b",
   "metadata": {},
   "source": [
    "## Q6\tArrays Part II \n",
    "\n",
    "a.\tCreate an array of zeros that contains 20 elements. Print its shape and size using the methods of the same name.\n",
    "\n",
    "Hint: look the zeros function in ```numpy```.\n"
   ]
  },
  {
   "cell_type": "code",
   "execution_count": null,
   "id": "e20f013a",
   "metadata": {},
   "outputs": [],
   "source": [
    "array = np.....(....)\n",
    "\n",
    "print(array....., array....)"
   ]
  },
  {
   "cell_type": "markdown",
   "id": "79aeb14f",
   "metadata": {},
   "source": [
    "<br>\n",
    "\n",
    "**b)**\tCreate an array that contains elements from 0 to 19 in increasing order (hint: use the numpy.arange function)."
   ]
  },
  {
   "cell_type": "code",
   "execution_count": null,
   "id": "483d097e",
   "metadata": {},
   "outputs": [],
   "source": [
    "array = np.....(....)"
   ]
  },
  {
   "cell_type": "markdown",
   "id": "415062f7",
   "metadata": {},
   "source": [
    "<br>\n",
    "\n",
    "**c)**\tReshape this array into a 2d array that is 4 by 5. Print its shape and size.\n",
    "\n",
    "*Note: we are using the copy method here to create a deep copy of the array. If we didn't do this, then the new array ```other_array``` is a 'view' of ```array```. Hence, you make changes to either array, it will automatically make the same change in the other array. Using ```copy()``` makes a new copy and the arrays are independent of each other.*"
   ]
  },
  {
   "cell_type": "code",
   "execution_count": null,
   "id": "074bbae8",
   "metadata": {},
   "outputs": [],
   "source": [
    "other_array = array.....(....).copy()"
   ]
  },
  {
   "cell_type": "markdown",
   "id": "03d28d78",
   "metadata": {},
   "source": [
    "<br>\n",
    "\n",
    "**d)**\tPrint the value at the second column, third row. "
   ]
  },
  {
   "cell_type": "code",
   "execution_count": null,
   "id": "a45f5ab0",
   "metadata": {},
   "outputs": [],
   "source": [
    "print(other_array[....])"
   ]
  },
  {
   "cell_type": "markdown",
   "id": "eae4dd00",
   "metadata": {},
   "source": [
    "<br>\n",
    "\n",
    "**e)**\tCreate an array as you did in part b) and now make it a 5 by 4 array. Try adding this to the array created in part c). What happens?\n"
   ]
  },
  {
   "cell_type": "code",
   "execution_count": null,
   "id": "345b6bed",
   "metadata": {},
   "outputs": [],
   "source": [
    "array2 = np.arange(....).reshape()\n",
    "\n",
    "other_array + ...."
   ]
  },
  {
   "cell_type": "markdown",
   "id": "2e08db1e",
   "metadata": {},
   "source": [
    "<br>\n",
    "\n",
    "**f)**\tCreate a copy of the array (a unique copy) from part c. Multiply the values by 2. Divide the previous array from part c) by this new array and print the results.\n",
    "\n"
   ]
  },
  {
   "cell_type": "code",
   "execution_count": null,
   "id": "2032aa6e",
   "metadata": {
    "ExecuteTime": {
     "end_time": "2021-06-10T11:56:24.428775Z",
     "start_time": "2021-06-10T11:56:24.424838Z"
    }
   },
   "outputs": [],
   "source": [
    "other_array2 = other_array.....()\n",
    "\n",
    "....\n",
    "\n",
    "print(....)"
   ]
  },
  {
   "cell_type": "markdown",
   "id": "bd4d1d89",
   "metadata": {},
   "source": [
    "\n",
    "## Q7 Array concatenation\n",
    "\n",
    "The following questions are without the prompts. To complete them you will have read about concatenation in the notes or documentation.\n",
    "\n",
    "**a)**\tCreate two arrays of length 10, called a & b. The arrays should contain floating point numbers.\n",
    "\n",
    "Note: you can set the type of the array by adding a ```dtype``` keyword to the call."
   ]
  },
  {
   "cell_type": "code",
   "execution_count": null,
   "id": "62843de4",
   "metadata": {
    "ExecuteTime": {
     "end_time": "2021-06-10T12:46:11.349714Z",
     "start_time": "2021-06-10T12:46:11.346596Z"
    }
   },
   "outputs": [],
   "source": []
  },
  {
   "cell_type": "markdown",
   "id": "003a0899",
   "metadata": {},
   "source": [
    "<br>\n",
    "\n",
    "**b)** Combine the two arrays to make a 20 by 1 array. "
   ]
  },
  {
   "cell_type": "code",
   "execution_count": null,
   "id": "278b23ef",
   "metadata": {},
   "outputs": [],
   "source": []
  },
  {
   "cell_type": "markdown",
   "id": "8e291f74",
   "metadata": {},
   "source": [
    "<br>\n",
    "\n",
    "**c)**\tCombine them to make one array of dimension 10 by 2. \n"
   ]
  },
  {
   "cell_type": "code",
   "execution_count": null,
   "id": "ea9878f1",
   "metadata": {},
   "outputs": [],
   "source": []
  },
  {
   "cell_type": "markdown",
   "id": "aba6ad09",
   "metadata": {},
   "source": [
    "<br>\n",
    "\n",
    "**d)**\tCombine this last array with itself to make an array of dimension 10 by 2 by 2."
   ]
  },
  {
   "cell_type": "code",
   "execution_count": null,
   "id": "93923c45",
   "metadata": {},
   "outputs": [],
   "source": []
  },
  {
   "cell_type": "markdown",
   "id": "90aa8704",
   "metadata": {},
   "source": [
    "## Q8 Array Manipulation\n",
    "\n",
    "The following questions require the use of the functions you have not yet met. Check out the documentation to find out how to use them.\n",
    "\n",
    "**a) Create an array of 1000 elements using ```np.random.randn```. \n",
    "\n",
    "Use the relational operators (or the ```np.where``` function) to find out: \n",
    "- (i)\tHow many elements are greater than 0. \n",
    "- (ii)\tHow many elements are less than 0. \n",
    "- (iii)\tHow many elements lie between -1 and 1. Is this number familiar?\n",
    "- (iv)\tWhat is the results when you look for numbers greater than 100?\n"
   ]
  },
  {
   "cell_type": "code",
   "execution_count": null,
   "id": "59d86995",
   "metadata": {},
   "outputs": [],
   "source": []
  },
  {
   "cell_type": "markdown",
   "id": "eb407b5c",
   "metadata": {},
   "source": [
    "<br>\n",
    "\n",
    "**b)**\tCreate an ordered array of length 40.\n",
    "- (i)\tFind the location of the even numbers using modulo function.\n",
    "- (ii)\tFind the location of the odd numbers.\n",
    "- (iii)\tWhich elements have a factor of 3?\n",
    "- (iv)\tWhich elements have a factor of 4?"
   ]
  },
  {
   "cell_type": "code",
   "execution_count": null,
   "id": "b9bd621c",
   "metadata": {},
   "outputs": [],
   "source": []
  }
 ],
 "metadata": {
  "kernelspec": {
   "display_name": "Python 3",
   "language": "python",
   "name": "python3"
  },
  "language_info": {
   "codemirror_mode": {
    "name": "ipython",
    "version": 3
   },
   "file_extension": ".py",
   "mimetype": "text/x-python",
   "name": "python",
   "nbconvert_exporter": "python",
   "pygments_lexer": "ipython3",
   "version": "3.8.5"
  },
  "latex_envs": {
   "LaTeX_envs_menu_present": true,
   "autoclose": false,
   "autocomplete": true,
   "bibliofile": "biblio.bib",
   "cite_by": "apalike",
   "current_citInitial": 1,
   "eqLabelWithNumbers": true,
   "eqNumInitial": 1,
   "hotkeys": {
    "equation": "Ctrl-E",
    "itemize": "Ctrl-I"
   },
   "labels_anchors": false,
   "latex_user_defs": false,
   "report_style_numbering": false,
   "user_envs_cfg": false
  }
 },
 "nbformat": 4,
 "nbformat_minor": 5
}
