{
 "cells": [
  {
   "cell_type": "markdown",
   "id": "76e29224",
   "metadata": {},
   "source": [
    "<center><h1>Tutorial sheet 2</h1> </center>\n",
    "\n",
    "\n",
    "This set of exercises follows on from the topics discussed in the ‘Python Introduction Part 2’, and focus on the different visualisations we encountered with ```matplotlib```. \n",
    "\n",
    "\n",
    "\n",
    "You can complete the following exercises in Pycharm, a python terminal, or in a script, if you desire. I would create a script for each exercise. At the start of each script you will need to ```import matplotlib.pyplot``` and ```numpy```. \n",
    "\n",
    "<br>\n",
    "\n",
    "<br>\n",
    "\n",
    "---\n",
    "\n",
    "**NOTE**: For any function you haven’t met before, you can use ? to find out information, e.g. ```print?``` You will need to hit q to exit from the help. \n",
    "\n",
    "| | |\n",
    "|-|-|\n",
    "|You can also find all the documentation for ```numpy``` on their website [https://numpy.org](https://numpy.org). | <img src=\"https://user-images.githubusercontent.com/50221806/86498222-c4c12800-bd39-11ea-9709-160ad4ba63e1.png\" width=200 float=\"right\">|\n",
    "|You can also find all the documentation for ```matplotlib``` on their website [https://matplotlib.org](https://matplotlib.org). | <img src=\"https://matplotlib.org/stable/_static/logo2_compressed.svg\" width=300 float=\"right\">|\n",
    "\n",
    "\n",
    "---\n",
    "\n",
    "\n",
    "For each of these exercises you can also play around with the matplotlib themes and also the style of the plot."
   ]
  },
  {
   "cell_type": "markdown",
   "id": "3bb2d14d",
   "metadata": {},
   "source": [
    "<br>\n",
    "\n",
    "<br>\n",
    "\n",
    "**General Instructions**\n",
    "\n",
    "In the following exercises you will have to fill in the blanks. Where ever you see ```....``` you will need to replace these with the correct code. \n",
    "\n",
    "<br>"
   ]
  },
  {
   "cell_type": "code",
   "execution_count": null,
   "id": "8defe597",
   "metadata": {},
   "outputs": [],
   "source": [
    "# Complete the following imports and run the cell.\n",
    "import numpy as ....\n",
    "import matplotlib..... as plt\n",
    "\n",
    "# this line ensures that the plots appear within the note book\n",
    "%matplotlib inline"
   ]
  },
  {
   "cell_type": "markdown",
   "id": "a849146c",
   "metadata": {},
   "source": [
    "## Line plots\n",
    "We will be working the following table of star data:\n",
    "\n",
    "\n",
    "| Class | Radius ($R_\\odot$) |\tMass ($M_\\odot$) |\tLuminosity ($L_\\odot$) | Temp ($K$) | Name |\n",
    "|-|-|-|-|-|-|\n",
    "|O6 | 18 | 40 | 500,000 | 38,000 | Theta1 Orionis C\t| \n",
    "|B0\t| 7.4 | 18 | 20,000\t| 30,000 | Phi1 Orionis\t| \t| \n",
    "|B5\t| 3.8 | 6.5\t| 800 | 16,400\t| Pi Andromedae A\t| \n",
    "|A0\t| 2.5 | 3.2\t| 80 | 10,800 | Alpha Coronae Borealis A\t| \n",
    "|A5\t| 1.7 | 2.1\t| 20 | 8,620 | Beta Pictoris\t| \n",
    "|F0\t| 1.3 | 1.7\t| 6\t | 7,240 | Gamma Virginis\t| \n",
    "|F5\t| 1.2 | 1.3\t| 2.5 | 6,540 | Eta Arietis\t| \n",
    "\n",
    "\n",
    "<br>\n",
    "\n",
    "**a)**\tCreate two separate numpy arrays for mass and luminosity. Make a line plot of mass versus luminosity (if you are doing this exercise from the terminal or a script you will need to use plt.show() to display the figure). "
   ]
  },
  {
   "cell_type": "code",
   "execution_count": null,
   "id": "9d662d7d",
   "metadata": {},
   "outputs": [],
   "source": [
    "mass_list = [40,....,....,....,....,....,....]\n",
    "mass = np.array()\n",
    "\n",
    "# you don't have to pre-specify a list like in the above example\n",
    "# you can just write out the list directly in the array function\n",
    "# Note the  [...] are still required.\n",
    "luminosity = np....([5e5, 2e4, 8e2, 80, 20, 6, 2.5])"
   ]
  },
  {
   "cell_type": "code",
   "execution_count": null,
   "id": "c5676ea2",
   "metadata": {},
   "outputs": [],
   "source": [
    "plt.plot(...., ....)"
   ]
  },
  {
   "cell_type": "markdown",
   "id": "e243a662",
   "metadata": {},
   "source": [
    "<br>\n",
    "\n",
    "**b)**\tAdd labels to the axis.\n"
   ]
  },
  {
   "cell_type": "code",
   "execution_count": null,
   "id": "1ba70dd8",
   "metadata": {},
   "outputs": [],
   "source": [
    "plt.plot(...., ....)\n",
    "\n",
    "plt.xtitle(r'.... ($M_\\odot$)')\n",
    "plt.....(r'Luminosity ($L_\\odot$)')"
   ]
  },
  {
   "cell_type": "markdown",
   "id": "4dfe18b6",
   "metadata": {},
   "source": [
    "<br>\n",
    "\n",
    "**c)**\tAdd a title to the plot.\n"
   ]
  },
  {
   "cell_type": "code",
   "execution_count": null,
   "id": "b518ff1f",
   "metadata": {},
   "outputs": [],
   "source": [
    "plt.plot(...., ....)\n",
    "\n",
    "plt.....(r'Mass ($M_\\odot$)') # x title\n",
    "plt.....(r'Luminosity ($L_\\odot$)')  # y title\n",
    "plt.....('....') # main title"
   ]
  },
  {
   "cell_type": "markdown",
   "id": "53022e35",
   "metadata": {},
   "source": [
    "<br>\n",
    "\n",
    "**d)**\tMake the y-axis logarithmic using plt.yscale.\n"
   ]
  },
  {
   "cell_type": "code",
   "execution_count": null,
   "id": "c5df8dac",
   "metadata": {},
   "outputs": [],
   "source": [
    "plt.plot(...., ....)\n",
    "\n",
    "plt.....(r'Mass ($M_\\odot$)') # x title\n",
    "plt.....(r'Luminosity ($L_\\odot$)')  # y title\n",
    "plt.....('....') # main title\n",
    "\n",
    "plt.....(....) # change y scale"
   ]
  },
  {
   "cell_type": "markdown",
   "id": "fc21b081",
   "metadata": {},
   "source": [
    "<br>\n",
    "\n",
    "**e)**\tChange the style and colour of the line to something of your choosing.\n"
   ]
  },
  {
   "cell_type": "code",
   "execution_count": null,
   "id": "7e26c837",
   "metadata": {},
   "outputs": [],
   "source": [
    "plt.plot(...., ...., color='....', style='....')\n",
    "\n",
    "plt.....(r'Mass ($M_\\odot$)') # x title\n",
    "plt.....(r'Luminosity ($L_\\odot$)')  # y title\n",
    "plt.....('....') # main title\n",
    "\n",
    "plt.....(....) # change y scale"
   ]
  },
  {
   "cell_type": "markdown",
   "id": "3f941f31",
   "metadata": {},
   "source": [
    "Save the figure."
   ]
  },
  {
   "cell_type": "code",
   "execution_count": null,
   "id": "3596fd63",
   "metadata": {},
   "outputs": [],
   "source": [
    "# here you just need to enter a path to a directory and a name for the plot.\n",
    "plt.Save('..../name_of_plot.png')"
   ]
  },
  {
   "cell_type": "markdown",
   "id": "252060a5",
   "metadata": {},
   "source": [
    "<br>\n",
    "\n",
    "**f)**\tCreate a new array for star temperature. Create a multi-panel plot that contains your first plot, and a fully labelled plot of mass vs temperature."
   ]
  },
  {
   "cell_type": "code",
   "execution_count": null,
   "id": "3550eef3",
   "metadata": {},
   "outputs": [],
   "source": [
    "temperature = np.....([....])"
   ]
  },
  {
   "cell_type": "code",
   "execution_count": null,
   "id": "36f053c6",
   "metadata": {},
   "outputs": [],
   "source": [
    "plt.figure()\n",
    "\n",
    "plt.subplot(1, 2, ....)\n",
    "plt.plot(...., ...., color='....', style='....')\n",
    "\n",
    "plt.xtitle(r'Mass ($M_\\odot$)')\n",
    "plt.ytitle(r'Luminosity ($L_\\odot$)')\n",
    "plt.title('....')\n",
    "\n",
    "plt.yscale(....)\n",
    "\n",
    "\n",
    "# add another plot\n",
    "plt.subplot(1, ...., ....)\n",
    "\n",
    "plt.plot(...., ....)\n",
    "plt.xtitle(....)\n",
    "plt.ytitle(....)\n",
    "plt.title(....)\n"
   ]
  },
  {
   "cell_type": "markdown",
   "id": "6602b7e5",
   "metadata": {},
   "source": [
    "\n",
    "----\n",
    "\n",
    "For the following exercises we are going to use a dataset from the Sloan Sky Digital Survey (SDSS), which has taken observations of 10,000 objects in space. \n",
    "\n",
    "I obtained the data from \n",
    "https://www.kaggle.com/lucidlenn/sloan-digital-sky-survey/downloads/sloan-digital-sky-survey.zip/2 and the information on the Kaggle website contains further information about the dataset. Or see here: http://www.sdss3.org/dr9/imaging/imaging_basics.php\n",
    "\n",
    "\n",
    "The data we are using can be obtained by running the following code:"
   ]
  },
  {
   "cell_type": "code",
   "execution_count": 2,
   "id": "4a8d56aa",
   "metadata": {
    "ExecuteTime": {
     "end_time": "2021-06-21T11:59:53.158222Z",
     "start_time": "2021-06-21T11:59:50.647803Z"
    }
   },
   "outputs": [
    {
     "data": {
      "text/html": [
       "<div>\n",
       "<style scoped>\n",
       "    .dataframe tbody tr th:only-of-type {\n",
       "        vertical-align: middle;\n",
       "    }\n",
       "\n",
       "    .dataframe tbody tr th {\n",
       "        vertical-align: top;\n",
       "    }\n",
       "\n",
       "    .dataframe thead th {\n",
       "        text-align: right;\n",
       "    }\n",
       "</style>\n",
       "<table border=\"1\" class=\"dataframe\">\n",
       "  <thead>\n",
       "    <tr style=\"text-align: right;\">\n",
       "      <th></th>\n",
       "      <th>objid</th>\n",
       "      <th>ra</th>\n",
       "      <th>dec</th>\n",
       "      <th>u</th>\n",
       "      <th>g</th>\n",
       "      <th>r</th>\n",
       "      <th>i</th>\n",
       "      <th>z</th>\n",
       "      <th>run</th>\n",
       "      <th>rerun</th>\n",
       "      <th>camcol</th>\n",
       "      <th>field</th>\n",
       "      <th>specobjid</th>\n",
       "      <th>class</th>\n",
       "      <th>redshift</th>\n",
       "      <th>plate</th>\n",
       "      <th>mjd</th>\n",
       "      <th>fiberid</th>\n",
       "    </tr>\n",
       "  </thead>\n",
       "  <tbody>\n",
       "    <tr>\n",
       "      <th>0</th>\n",
       "      <td>1.240000e+18</td>\n",
       "      <td>183.531326</td>\n",
       "      <td>0.089693</td>\n",
       "      <td>19.47406</td>\n",
       "      <td>17.04240</td>\n",
       "      <td>15.94699</td>\n",
       "      <td>15.50342</td>\n",
       "      <td>15.22531</td>\n",
       "      <td>752</td>\n",
       "      <td>301</td>\n",
       "      <td>4</td>\n",
       "      <td>267</td>\n",
       "      <td>3.720000e+18</td>\n",
       "      <td>STAR</td>\n",
       "      <td>-0.000009</td>\n",
       "      <td>3306</td>\n",
       "      <td>54922</td>\n",
       "      <td>491</td>\n",
       "    </tr>\n",
       "    <tr>\n",
       "      <th>1</th>\n",
       "      <td>1.240000e+18</td>\n",
       "      <td>183.598370</td>\n",
       "      <td>0.135285</td>\n",
       "      <td>18.66280</td>\n",
       "      <td>17.21449</td>\n",
       "      <td>16.67637</td>\n",
       "      <td>16.48922</td>\n",
       "      <td>16.39150</td>\n",
       "      <td>752</td>\n",
       "      <td>301</td>\n",
       "      <td>4</td>\n",
       "      <td>267</td>\n",
       "      <td>3.640000e+17</td>\n",
       "      <td>STAR</td>\n",
       "      <td>-0.000055</td>\n",
       "      <td>323</td>\n",
       "      <td>51615</td>\n",
       "      <td>541</td>\n",
       "    </tr>\n",
       "    <tr>\n",
       "      <th>2</th>\n",
       "      <td>1.240000e+18</td>\n",
       "      <td>183.680207</td>\n",
       "      <td>0.126185</td>\n",
       "      <td>19.38298</td>\n",
       "      <td>18.19169</td>\n",
       "      <td>17.47428</td>\n",
       "      <td>17.08732</td>\n",
       "      <td>16.80125</td>\n",
       "      <td>752</td>\n",
       "      <td>301</td>\n",
       "      <td>4</td>\n",
       "      <td>268</td>\n",
       "      <td>3.230000e+17</td>\n",
       "      <td>GALAXY</td>\n",
       "      <td>0.123111</td>\n",
       "      <td>287</td>\n",
       "      <td>52023</td>\n",
       "      <td>513</td>\n",
       "    </tr>\n",
       "    <tr>\n",
       "      <th>3</th>\n",
       "      <td>1.240000e+18</td>\n",
       "      <td>183.870529</td>\n",
       "      <td>0.049911</td>\n",
       "      <td>17.76536</td>\n",
       "      <td>16.60272</td>\n",
       "      <td>16.16116</td>\n",
       "      <td>15.98233</td>\n",
       "      <td>15.90438</td>\n",
       "      <td>752</td>\n",
       "      <td>301</td>\n",
       "      <td>4</td>\n",
       "      <td>269</td>\n",
       "      <td>3.720000e+18</td>\n",
       "      <td>STAR</td>\n",
       "      <td>-0.000111</td>\n",
       "      <td>3306</td>\n",
       "      <td>54922</td>\n",
       "      <td>510</td>\n",
       "    </tr>\n",
       "    <tr>\n",
       "      <th>4</th>\n",
       "      <td>1.240000e+18</td>\n",
       "      <td>183.883288</td>\n",
       "      <td>0.102557</td>\n",
       "      <td>17.55025</td>\n",
       "      <td>16.26342</td>\n",
       "      <td>16.43869</td>\n",
       "      <td>16.55492</td>\n",
       "      <td>16.61326</td>\n",
       "      <td>752</td>\n",
       "      <td>301</td>\n",
       "      <td>4</td>\n",
       "      <td>269</td>\n",
       "      <td>3.720000e+18</td>\n",
       "      <td>STAR</td>\n",
       "      <td>0.000590</td>\n",
       "      <td>3306</td>\n",
       "      <td>54922</td>\n",
       "      <td>512</td>\n",
       "    </tr>\n",
       "  </tbody>\n",
       "</table>\n",
       "</div>"
      ],
      "text/plain": [
       "          objid          ra       dec         u         g         r         i  \\\n",
       "0  1.240000e+18  183.531326  0.089693  19.47406  17.04240  15.94699  15.50342   \n",
       "1  1.240000e+18  183.598370  0.135285  18.66280  17.21449  16.67637  16.48922   \n",
       "2  1.240000e+18  183.680207  0.126185  19.38298  18.19169  17.47428  17.08732   \n",
       "3  1.240000e+18  183.870529  0.049911  17.76536  16.60272  16.16116  15.98233   \n",
       "4  1.240000e+18  183.883288  0.102557  17.55025  16.26342  16.43869  16.55492   \n",
       "\n",
       "          z  run  rerun  camcol  field     specobjid   class  redshift  plate  \\\n",
       "0  15.22531  752    301       4    267  3.720000e+18    STAR -0.000009   3306   \n",
       "1  16.39150  752    301       4    267  3.640000e+17    STAR -0.000055    323   \n",
       "2  16.80125  752    301       4    268  3.230000e+17  GALAXY  0.123111    287   \n",
       "3  15.90438  752    301       4    269  3.720000e+18    STAR -0.000111   3306   \n",
       "4  16.61326  752    301       4    269  3.720000e+18    STAR  0.000590   3306   \n",
       "\n",
       "     mjd  fiberid  \n",
       "0  54922      491  \n",
       "1  51615      541  \n",
       "2  52023      513  \n",
       "3  54922      510  \n",
       "4  54922      512  "
      ]
     },
     "execution_count": 2,
     "metadata": {},
     "output_type": "execute_result"
    }
   ],
   "source": [
    "# pandas is a package for working with tabular data\n",
    "import pandas as pd\n",
    "\n",
    "url = 'https://docs.google.com/spreadsheets/d/1xc1YpcP9sHKnV3l9tpkc156-IEjms6D5Xflb9Yw9JiU/export?format=csv&gid=1442705777'\n",
    "\n",
    "# read data into a pandas data frame\n",
    "data = pd.read_csv(url)\n",
    "\n",
    "# show the first few rows of the data frame\n",
    "data.head()"
   ]
  },
  {
   "cell_type": "markdown",
   "id": "4c8287cc",
   "metadata": {},
   "source": [
    "<br>\n",
    "\n",
    "The SDSS basically takes images across the sky in 5 filter bands u, g, r, i, z (each of these filters isolates some part of the electromagnetic spectrum). We will look at the relationship between the magnitudes of objects in the u and g filter band-passes.\n",
    "\n",
    "Run the following lines of code (or add to your script):"
   ]
  },
  {
   "cell_type": "code",
   "execution_count": null,
   "id": "31f3fd86",
   "metadata": {},
   "outputs": [],
   "source": [
    "# extracts data from data frame and returns as ndarray\n",
    "u_mag = data['u'].values\n",
    "g_mag = data['g'].values\n",
    "objects = data['class'].values"
   ]
  },
  {
   "cell_type": "markdown",
   "id": "3a1167b6",
   "metadata": {},
   "source": [
    "## Scatter plots\n",
    "\n",
    "The following questions look at creating scatter plots\n",
    "\n",
    "<br>\n",
    "\n",
    "**a)**\tCreate a scatter plot of u magnitudes vs g magnitudes.\n"
   ]
  },
  {
   "cell_type": "code",
   "execution_count": null,
   "id": "5a9531c1",
   "metadata": {},
   "outputs": [],
   "source": [
    "plt.scatter(...., ....)"
   ]
  },
  {
   "cell_type": "markdown",
   "id": "4a16d36f",
   "metadata": {},
   "source": [
    "<br>\n",
    "\n",
    "**b)**\tLabel the plot.\n"
   ]
  },
  {
   "cell_type": "code",
   "execution_count": null,
   "id": "18299c09",
   "metadata": {},
   "outputs": [],
   "source": [
    "plt.....(u_mag, ....)\n",
    "\n",
    "plt.xtitle(....)\n",
    "plt.....(....) # y title\n"
   ]
  },
  {
   "cell_type": "markdown",
   "id": "eb0cd90b",
   "metadata": {},
   "source": [
    "<br>\n",
    "\n",
    "**c)**\tThe given magnitudes are from objects made up of stars, galaxies, and QSO’s. Using relational operators, create new arrays of magnitudes for stars, and new arrays for galaxies. Create a single scatter plot showing the two different data sets. \n"
   ]
  },
  {
   "cell_type": "code",
   "execution_count": null,
   "id": "1f1af0da",
   "metadata": {},
   "outputs": [],
   "source": [
    "# find locations in arrays\n",
    "star_index = objects .... 'STAR'\n",
    "galaxy_index = objects .... ....\n",
    "\n",
    "# create new arrays\n",
    "u_mag_star = u_mag[star_index]\n",
    "g_mag_star = ....\n",
    "\n",
    "u_mag_galaxy = ....\n",
    "g_mag_galaxy = ...."
   ]
  },
  {
   "cell_type": "code",
   "execution_count": null,
   "id": "b49c7d1e",
   "metadata": {},
   "outputs": [],
   "source": [
    "plt.scatter(...., ...., alpha=0.5, label='Stars')\n",
    "plt.scatter(...., ...., alpha=0.5, label ='Galaxy')"
   ]
  },
  {
   "cell_type": "markdown",
   "id": "c0bdff59",
   "metadata": {},
   "source": [
    "<br>\n",
    "\n",
    "**d)**\tAdd labels and a legend to the scatter plot."
   ]
  },
  {
   "cell_type": "code",
   "execution_count": null,
   "id": "9af34cca",
   "metadata": {},
   "outputs": [],
   "source": [
    "plt.scatter(...., ...., alpha=0.5, label='Stars')\n",
    "plt.scatter(...., ...., alpha=0.5, label ='Galaxy')\n",
    "\n",
    "plt.....(....) # x title\n",
    "plt.....(....) # y title\n",
    "\n",
    "# plot legend\n",
    "plt.....() "
   ]
  },
  {
   "cell_type": "markdown",
   "id": "e9f394f1",
   "metadata": {},
   "source": [
    "<br>\n",
    "\n",
    "**e)**\tIs there a difference between stars and galaxies?"
   ]
  },
  {
   "cell_type": "markdown",
   "id": "19ffa91f",
   "metadata": {},
   "source": []
  },
  {
   "cell_type": "markdown",
   "id": "b80d28d2",
   "metadata": {},
   "source": [
    "\n",
    "## Histograms\n",
    "\n",
    "The following questions continue to work with the data from the Sloan Digital Sky Survey.\n",
    "\n",
    "<br>\n",
    "\n",
    "**a)**\tPlot a histogram of the u magnitudes for all objects. Label the plot appropriately.\n"
   ]
  },
  {
   "cell_type": "code",
   "execution_count": null,
   "id": "e20335cd",
   "metadata": {},
   "outputs": [],
   "source": [
    "plt.....(....)\n",
    "\n",
    "plt.xtitle(....)\n",
    "plt.ytitle(....)"
   ]
  },
  {
   "cell_type": "markdown",
   "id": "060245ae",
   "metadata": {},
   "source": [
    "<br>\n",
    "\n",
    "**b)**\tChange the bins size to 20, then to 40. How does this influence the shape of the histogram?\n",
    "\n"
   ]
  },
  {
   "cell_type": "code",
   "execution_count": null,
   "id": "f6fdee9a",
   "metadata": {},
   "outputs": [],
   "source": [
    "plt.histogram(...., bins=....)"
   ]
  },
  {
   "cell_type": "markdown",
   "id": "a2d26b26",
   "metadata": {},
   "source": [
    "<br>\n",
    "\n",
    "**c)**\tLet’s compare the magnitudes of different deep space objects by plotting multi-panel histograms, one for each of stars, galaxies, and QSO’s. \n",
    "\n",
    "For multi-panel plot you should write your own code. You can use the code given in 2.1f as template.\n"
   ]
  },
  {
   "cell_type": "code",
   "execution_count": null,
   "id": "2a388517",
   "metadata": {},
   "outputs": [],
   "source": [
    "# select QSO objects\n",
    "QSO_index = objects == 'QSO'\n",
    "\n",
    "u_mag_qso = u_mag[QSO_index]\n",
    "g_mag_qso = ...."
   ]
  },
  {
   "cell_type": "code",
   "execution_count": null,
   "id": "74b43957",
   "metadata": {},
   "outputs": [],
   "source": [
    "# Plot multi-panel histograms\n"
   ]
  },
  {
   "cell_type": "markdown",
   "id": "b2220613",
   "metadata": {},
   "source": [
    "<br>\n",
    "\n",
    "**d)**\tInstead of plotting them side by side create a single plot with each histogram over-plotted. You may have to change from counts to density to properly compare each distribution (look at the docs for density keyword). You will also have to play with the opacity to show each distribution clearly."
   ]
  },
  {
   "cell_type": "code",
   "execution_count": null,
   "id": "b3dfa472",
   "metadata": {},
   "outputs": [],
   "source": []
  }
 ],
 "metadata": {
  "kernelspec": {
   "display_name": "Python 3",
   "language": "python",
   "name": "python3"
  },
  "language_info": {
   "codemirror_mode": {
    "name": "ipython",
    "version": 3
   },
   "file_extension": ".py",
   "mimetype": "text/x-python",
   "name": "python",
   "nbconvert_exporter": "python",
   "pygments_lexer": "ipython3",
   "version": "3.8.5"
  },
  "latex_envs": {
   "LaTeX_envs_menu_present": true,
   "autoclose": false,
   "autocomplete": true,
   "bibliofile": "biblio.bib",
   "cite_by": "apalike",
   "current_citInitial": 1,
   "eqLabelWithNumbers": true,
   "eqNumInitial": 1,
   "hotkeys": {
    "equation": "Ctrl-E",
    "itemize": "Ctrl-I"
   },
   "labels_anchors": false,
   "latex_user_defs": false,
   "report_style_numbering": false,
   "user_envs_cfg": false
  },
  "toc": {
   "base_numbering": "2",
   "nav_menu": {},
   "number_sections": true,
   "sideBar": true,
   "skip_h1_title": false,
   "title_cell": "Table of Contents",
   "title_sidebar": "Contents",
   "toc_cell": false,
   "toc_position": {},
   "toc_section_display": true,
   "toc_window_display": true
  }
 },
 "nbformat": 4,
 "nbformat_minor": 5
}
