{
 "cells": [
  {
   "cell_type": "markdown",
   "id": "bc2b632d",
   "metadata": {},
   "source": [
    "\n",
    "<center><h1>Tutorial sheet 3</h1></center> \n",
    "\n",
    "\n",
    "This set of exercises follows on from the topics discussed in the ‘Python Introduction Part 3’. The focus is on using the control statements (e.g. ```for```, ```if```) and functions to build code that can complete tasks.\n",
    "\n",
    "These exercises will need to be completed in script. You should create a script for each exercise. At the start of each script you will need to ```import``` numpy and matplotlib.\n",
    "\n",
    "Remember - for any function you haven’t met before, you can use ? to find out information, e.g. ```?print```\n",
    "\n",
    "\n",
    "<br>\n",
    "\n",
    "In some of the following exercises you will have to fill in the blanks. Where ever you see ```....``` you will need to replace these with the correct code. "
   ]
  },
  {
   "cell_type": "code",
   "execution_count": null,
   "id": "fab5361c",
   "metadata": {},
   "outputs": [],
   "source": [
    "# As always, import the required modules\n",
    "import numpy as ....\n",
    "import matplotlib.pyplot as ...\n",
    "\n",
    "%matplotlib inline # makes plots appear in notebook"
   ]
  },
  {
   "cell_type": "markdown",
   "id": "5898ca2c",
   "metadata": {},
   "source": [
    "----\n",
    "\n",
    "## If else elif\n",
    "\n",
    "<br>\n",
    "\n",
    "**a)**\tWrite an if else statement to check whether a variable, ```invar```, equals 5. If it equals 5 then set a variable, ```outvar```, equal to 9. If it does not equal 5 set ```outvar``` equal to 6. \n",
    "\n",
    "Try the statement for ```invar=5``` and print the result of ```outvar```.\n"
   ]
  },
  {
   "cell_type": "code",
   "execution_count": null,
   "id": "8ec1052b",
   "metadata": {},
   "outputs": [],
   "source": [
    "invar = 5\n",
    "\n",
    "if invar .... 5 :\n",
    "    outvar = ....\n",
    "else:\n",
    "    outvar = ....\n",
    "    "
   ]
  },
  {
   "cell_type": "code",
   "execution_count": null,
   "id": "838af424",
   "metadata": {},
   "outputs": [],
   "source": [
    "print(....)"
   ]
  },
  {
   "cell_type": "markdown",
   "id": "37cc106c",
   "metadata": {},
   "source": [
    "<br>\n",
    "\n",
    "**b)**\tWrite an if else statement that takes the value outvar and checks if it is greater than 8. If this is true then multiply it by 6 and set result to outvar2. If it is not true, then divide by 3 and set result to outvar2. \n",
    "\n",
    "Assign the 6 and 3 to named variables inside the statement. \n",
    "\n",
    "Print the result.\n",
    "\n",
    "You can use the code from part 3.1a as a template.\n"
   ]
  },
  {
   "cell_type": "code",
   "execution_count": null,
   "id": "45956d7e",
   "metadata": {},
   "outputs": [],
   "source": []
  },
  {
   "cell_type": "markdown",
   "id": "52273a11",
   "metadata": {},
   "source": [
    "<br>\n",
    "\n",
    "**c)**\tUse an if else statement to test whether string ‘hi’ is EQUAL to string ‘HI’. If the statement is true then print string ‘TRUE’ and if it is false use else to print string ‘FALSE’\n"
   ]
  },
  {
   "cell_type": "code",
   "execution_count": null,
   "id": "7e4065a2",
   "metadata": {},
   "outputs": [],
   "source": []
  },
  {
   "cell_type": "markdown",
   "id": "c72eab23",
   "metadata": {},
   "source": [
    "<br>\n",
    "\n",
    "**d)**\tDo the same to test whether 0 us equal to null string ‘ ’ (two single quotation marks)\n",
    "\n"
   ]
  },
  {
   "cell_type": "code",
   "execution_count": null,
   "id": "dee508d5",
   "metadata": {},
   "outputs": [],
   "source": []
  },
  {
   "cell_type": "markdown",
   "id": "6ab9b0c4",
   "metadata": {},
   "source": [
    "## Loops\n",
    "\n",
    "<br>\n",
    "\n",
    "**a)**\tCreate a for loop that prints the statement ‘Hi there’ ten times.\n"
   ]
  },
  {
   "cell_type": "code",
   "execution_count": null,
   "id": "e4791e4c",
   "metadata": {},
   "outputs": [],
   "source": [
    "for i in .....:\n",
    "    ....('Hi there')"
   ]
  },
  {
   "cell_type": "markdown",
   "id": "d965b2ff",
   "metadata": {},
   "source": [
    "<br>\n",
    "\n",
    "**b)**\tCreate a for loop that increases a variable by 1 each time it loops. Execute the loop 20 times for a variable initially set to 0. Print out the final result.\n"
   ]
  },
  {
   "cell_type": "code",
   "execution_count": null,
   "id": "6c1a2392",
   "metadata": {},
   "outputs": [],
   "source": [
    "start = 0\n",
    "\n",
    "for .... in ....:\n",
    "    start .... ....\n",
    "    \n",
    "print(start)"
   ]
  },
  {
   "cell_type": "markdown",
   "id": "2ec31ead",
   "metadata": {},
   "source": [
    "<br>\n",
    "\n",
    "**c)**\tWrite a for loop that iterates over the elements in following list, printing out the elements separately. \n"
   ]
  },
  {
   "cell_type": "code",
   "execution_count": null,
   "id": "7f253ada",
   "metadata": {},
   "outputs": [],
   "source": [
    "star_temp = [38000, 30000, 16400, 10800, 8260, 7240, 6540]\n",
    "\n",
    "# Add for loop\n"
   ]
  },
  {
   "cell_type": "markdown",
   "id": "3fe6cb3b",
   "metadata": {},
   "source": [
    "<br>\n",
    "\n",
    "**d)**\tModify the for loop such that it prints the index of the element as well.\n"
   ]
  },
  {
   "cell_type": "code",
   "execution_count": null,
   "id": "041d2b11",
   "metadata": {},
   "outputs": [],
   "source": []
  },
  {
   "cell_type": "markdown",
   "id": "730b99e0",
   "metadata": {},
   "source": [
    "<br>\n",
    "\n",
    "**e)**\tYou are now given a dictionary containing star's names and temperatures. Write a for loop to iterate over the dictionary keys, printing out the results."
   ]
  },
  {
   "cell_type": "code",
   "execution_count": null,
   "id": "d62e089a",
   "metadata": {},
   "outputs": [],
   "source": [
    "star_temp = {‘Theta1 Orionis C’: 38000, \n",
    "             ’Phi1 Orionis‘: 30000, \n",
    "             ’Pi Andromedae A‘: 16400, \n",
    "             ’Alpha Coronae Borealis A’: 10800, \n",
    "             ’Beta Pictoris‘: 8260, \n",
    "             ’Gamma Virginis‘: 7240, \n",
    "             ‘Eta Arietis‘: 6540\n",
    "            }\n",
    "\n",
    "# Add for loop\n",
    "\n"
   ]
  },
  {
   "cell_type": "markdown",
   "id": "a9801518",
   "metadata": {},
   "source": [
    "<br>\n",
    "\n",
    "**f)**\tUsing the previous dictionary, code a for loop to iterate over the keys and values, printing out the results. The printout should read, ‘The temperature of x is y K’.\n"
   ]
  },
  {
   "cell_type": "code",
   "execution_count": null,
   "id": "0c73e59a",
   "metadata": {},
   "outputs": [],
   "source": [
    "for .... in ....:\n",
    "    print('The temperature of {0} is {1} K'.format(...., ....))"
   ]
  },
  {
   "cell_type": "markdown",
   "id": "cac988ab",
   "metadata": {},
   "source": [
    "<br>\n",
    "\n",
    "**g)**\tAssign a variable the value 0, then write a WHILE loop to add 1 to the variable until it reaches 100.\n"
   ]
  },
  {
   "cell_type": "code",
   "execution_count": null,
   "id": "8d26f89b",
   "metadata": {},
   "outputs": [],
   "source": [
    ".... = 0\n",
    "\n",
    "while .... ..... 100:\n",
    "    .... += 1"
   ]
  },
  {
   "cell_type": "markdown",
   "id": "8d0124f5",
   "metadata": {},
   "source": [
    "<br>\n",
    "\n",
    "**h)**\tWe want to write a basic control system for pointing a satellite. We know the offset from the target and want to correct it. \n",
    "\n",
    "We first create an initial variable called ```offset``` and assign it a value of 8. Code a while loop to correct the offset by 1 and print out the word 'correcting' and the current value of offset. Stop the loop when the offset equals 0.\n",
    "\n",
    "\n"
   ]
  },
  {
   "cell_type": "code",
   "execution_count": null,
   "id": "729e96de",
   "metadata": {},
   "outputs": [],
   "source": [
    "offset = 8\n",
    "\n",
    "while .... .... ....:\n",
    "    offset .... 1\n",
    "    print('Correcting. Current offset is {}'.format(....))"
   ]
  },
  {
   "cell_type": "markdown",
   "id": "106d9279",
   "metadata": {},
   "source": [
    "<br>\n",
    "\n",
    "----\n",
    "\n",
    "## Functions\n",
    "\n",
    "You have been using in-built functions from various packages, e.g., ```np.array``` is a function to turn a list in to an array.\n",
    "\n",
    "However, it will be very convenient to write your own functions. Begin able to write functions enables you to create re-usable and modular pieces of code.\n",
    "\n",
    "\n",
    "**a)**\tWrite a function that takes any number in, multiplies it by 2 and returns the new value.\n"
   ]
  },
  {
   "cell_type": "code",
   "execution_count": null,
   "id": "b1e3faac",
   "metadata": {},
   "outputs": [],
   "source": [
    "def mult_by_two(....):\n",
    "    return 2*....\n",
    "\n",
    "print(mult_by_two(4))"
   ]
  },
  {
   "cell_type": "markdown",
   "id": "d824c689",
   "metadata": {},
   "source": [
    "<br>\n",
    "\n",
    "**b)**\tRe-write the above function so that the multiplicative value is a default argument. Test the function by giving it two arguments.\n"
   ]
  },
  {
   "cell_type": "code",
   "execution_count": null,
   "id": "f1ff5ae6",
   "metadata": {},
   "outputs": [],
   "source": [
    "def mult_by_two(...., fac=.... ):\n",
    "    return fac*....\n",
    "\n",
    "print(mult_by_two(...., ....))"
   ]
  },
  {
   "cell_type": "markdown",
   "id": "5431c8e8",
   "metadata": {},
   "source": [
    "<br>\n",
    "\n",
    "**c)**\tWrite a function that plots a labelled sine curve. The function should be able to take in values of amplitude, period and phase. Make the amplitude and phase default parameters with values of 2 and 0. The plot title should show the values for the period, amplitude and phase.\n"
   ]
  },
  {
   "cell_type": "code",
   "execution_count": null,
   "id": "09cd36f8",
   "metadata": {},
   "outputs": [],
   "source": [
    "def plot_curve(...., amplitude=...., ....):\n",
    "    \n",
    "    x = np.arange(100)\n",
    "    sine_curve = amplitude*np.sin(2.*np.pi/.... + phase)\n",
    "    \n",
    "    plt.....(x, sine_curve)\n",
    "    plt.title('Period = {0}, Amplitude = {1}, Phase = {2}'.format(...., .... ,....))\n",
    "    "
   ]
  },
  {
   "cell_type": "markdown",
   "id": "d6a99b19",
   "metadata": {},
   "source": [
    "<br>\n",
    "\n",
    "**d)**\tWrite a function that takes in an array and returns multiple outputs, namely the minimum value, maximum value and mean value.\n",
    "\n",
    "Create an array and test your function."
   ]
  },
  {
   "cell_type": "code",
   "execution_count": null,
   "id": "a966c4ac",
   "metadata": {},
   "outputs": [],
   "source": [
    "def ....(....):\n",
    "    # add your code here\n",
    "    \n",
    "    return min_val, max_val, mean_val"
   ]
  },
  {
   "cell_type": "code",
   "execution_count": 1,
   "id": "27d1ac67",
   "metadata": {
    "ExecuteTime": {
     "end_time": "2021-06-22T11:28:07.939417Z",
     "start_time": "2021-06-22T11:28:07.934743Z"
    }
   },
   "outputs": [],
   "source": [
    "# use this cell to test your function\n",
    "\n"
   ]
  },
  {
   "cell_type": "markdown",
   "id": "d653093a",
   "metadata": {},
   "source": [
    "<br>\n",
    "\n",
    "**e)**\tCreate a function that can take in any number of floats and return the sum of them all. \n",
    "\n",
    "*Note: You will have to use flexible arguments. I discuss them in the notes but you can also search the web for kwargs and args in python.*\n"
   ]
  },
  {
   "cell_type": "code",
   "execution_count": null,
   "id": "6e204b5c",
   "metadata": {},
   "outputs": [],
   "source": [
    "def ....(....):\n",
    "    return ...."
   ]
  },
  {
   "cell_type": "markdown",
   "id": "240ba342",
   "metadata": {},
   "source": [
    "<p style=\"font-size:50px\">\n",
    "<center> <b>Harder exercises </b></center>\n",
    "    </p>\n",
    "\n",
    "You will have to use the help function or web-searches to find out how to use any new functions.\n",
    "\n",
    "## \n",
    "The control system you created in exercise 2h. only works for positive values of the offset. Incorporate an if else statement into the while loop to check whether the offset is positive or negative, then make the appropriate correction. \n",
    "\n",
    "Test this with an initial offset value of -6.\n"
   ]
  },
  {
   "cell_type": "code",
   "execution_count": null,
   "id": "4e27f229",
   "metadata": {},
   "outputs": [],
   "source": []
  },
  {
   "cell_type": "markdown",
   "id": "dfedb4b6",
   "metadata": {},
   "source": [
    "## \n",
    "We are interested in trying to mimic the outcomes of a coin toss. We want to create a script that can help us do this. \n",
    "\n",
    "In order to mimic the result of a toss, we can use a random number generator. I have used these in various examples through the course. The one we will use here is called ```np.random.randint()``` – and as the name suggests will generate a random integer. You should read the docs to see how it works.\n",
    "\n",
    "Using ```randint```, create a function that takes in the number of flips as an argument. The script should then use a for loop to call the random number generator. The value of the number generator should then be used to build a list of outcomes, with entries ‘heads’ or ‘tails’. The function should return the list.\n",
    "\n",
    "Note that the random number generators in Python (and other languages) are psudeo-random number generators. This means that you can set a seed value to get repeat performance. Try setting a seed value in the function, with ```np.random.seed()```.\n",
    "\n"
   ]
  },
  {
   "cell_type": "code",
   "execution_count": null,
   "id": "bc91f881",
   "metadata": {},
   "outputs": [],
   "source": []
  },
  {
   "cell_type": "markdown",
   "id": "e042e60c",
   "metadata": {},
   "source": [
    "## \n",
    "\n",
    "Let’s now modify the coin flipping script. Instead of returning the string values of the coin flip, we are interested in the number of heads you get after 10 coin flips (we will call this our experiment). Modify your function to return this value. We now want to calculate the probability of getting X number of heads from the 10 coin flips. To do this, re-write the function to perform the experiment 10,000 times and save the results. Plot a histogram of the results.\n",
    "\n"
   ]
  },
  {
   "cell_type": "code",
   "execution_count": null,
   "id": "279062a7",
   "metadata": {},
   "outputs": [],
   "source": []
  },
  {
   "cell_type": "markdown",
   "id": "1debfe87",
   "metadata": {},
   "source": [
    "## \n",
    "Now we will try to model a random walk process. We will do this by rolling a dice with 6 faces. If you score below a 4 you move forward, 4 or above you move backward. The steps you move is determined by another role of the dice. Create a function that uses ```randint``` to model the dice throwing. The inputs to the function should be the number of initial throws. You should start at position 0. The function should return the list (or array) of positions you occupy. Plot the outcome."
   ]
  },
  {
   "cell_type": "code",
   "execution_count": null,
   "id": "67f27971",
   "metadata": {},
   "outputs": [],
   "source": []
  }
 ],
 "metadata": {
  "kernelspec": {
   "display_name": "Python 3",
   "language": "python",
   "name": "python3"
  },
  "language_info": {
   "codemirror_mode": {
    "name": "ipython",
    "version": 3
   },
   "file_extension": ".py",
   "mimetype": "text/x-python",
   "name": "python",
   "nbconvert_exporter": "python",
   "pygments_lexer": "ipython3",
   "version": "3.8.5"
  },
  "latex_envs": {
   "LaTeX_envs_menu_present": true,
   "autoclose": false,
   "autocomplete": true,
   "bibliofile": "biblio.bib",
   "cite_by": "apalike",
   "current_citInitial": 1,
   "eqLabelWithNumbers": true,
   "eqNumInitial": 1,
   "hotkeys": {
    "equation": "Ctrl-E",
    "itemize": "Ctrl-I"
   },
   "labels_anchors": false,
   "latex_user_defs": false,
   "report_style_numbering": false,
   "user_envs_cfg": false
  },
  "toc": {
   "base_numbering": "3",
   "nav_menu": {},
   "number_sections": true,
   "sideBar": true,
   "skip_h1_title": false,
   "title_cell": "Table of Contents",
   "title_sidebar": "Contents",
   "toc_cell": false,
   "toc_position": {},
   "toc_section_display": true,
   "toc_window_display": true
  }
 },
 "nbformat": 4,
 "nbformat_minor": 5
}
